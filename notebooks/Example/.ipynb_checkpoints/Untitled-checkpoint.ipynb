{
 "cells": [
  {
   "cell_type": "code",
   "execution_count": 1,
   "metadata": {},
   "outputs": [],
   "source": [
    "import numpy as np"
   ]
  },
  {
   "cell_type": "markdown",
   "metadata": {},
   "source": [
    "We start with a co-occurence matrix for a year, for example:"
   ]
  },
  {
   "cell_type": "code",
   "execution_count": 24,
   "metadata": {},
   "outputs": [
    {
     "name": "stdout",
     "output_type": "stream",
     "text": [
      "[[0 4 5 4 1]\n",
      " [4 0 5 2 6]\n",
      " [5 5 0 3 3]\n",
      " [4 2 3 0 7]\n",
      " [1 6 3 7 0]]\n"
     ]
    }
   ],
   "source": [
    "original_matrix = np.random.randint(5, size=(5, 5))\n",
    "\n",
    "def symmetrize(a):\n",
    "    return a + a.T - np.diag(a.diagonal())\n",
    "\n",
    "original_matrix = symmetrize(original_matrix)\n",
    "\n",
    "np.fill_diagonal(original_matrix, 0)\n",
    "\n",
    "print original_matrix"
   ]
  },
  {
   "cell_type": "markdown",
   "metadata": {},
   "source": [
    "Let's say we have 20 documents, the normalized version is:"
   ]
  },
  {
   "cell_type": "code",
   "execution_count": 25,
   "metadata": {},
   "outputs": [
    {
     "name": "stdout",
     "output_type": "stream",
     "text": [
      "[[0.   0.2  0.25 0.2  0.05]\n",
      " [0.2  0.   0.25 0.1  0.3 ]\n",
      " [0.25 0.25 0.   0.15 0.15]\n",
      " [0.2  0.1  0.15 0.   0.35]\n",
      " [0.05 0.3  0.15 0.35 0.  ]]\n"
     ]
    }
   ],
   "source": [
    "num_of_docs = 20\n",
    "normalized_matrix = original_matrix / float(num_of_docs)\n",
    "print normalized_matrix"
   ]
  },
  {
   "cell_type": "markdown",
   "metadata": {},
   "source": [
    "Let's add the diagonal to the original matrix.\n",
    "\n",
    "To my understanding it is the number of terms to wich a particular term connects, hence giving:"
   ]
  },
  {
   "cell_type": "code",
   "execution_count": 27,
   "metadata": {},
   "outputs": [
    {
     "name": "stdout",
     "output_type": "stream",
     "text": [
      "[[4 4 5 4 1]\n",
      " [4 4 5 2 6]\n",
      " [5 5 4 3 3]\n",
      " [4 2 3 4 7]\n",
      " [1 6 3 7 4]]\n"
     ]
    }
   ],
   "source": [
    "def add_diagonal(matrix):\n",
    "    \"\"\"\n",
    "    Adds the diagonal (degree) for a given array. \n",
    "    \"\"\"\n",
    "    with_diagonal = matrix.copy()\n",
    "    for column_number in range(matrix.shape[1]):\n",
    "        with_diagonal[column_number, column_number] = np.size(np.nonzero(matrix[:, column_number])[0])\n",
    "    return with_diagonal\n",
    "\n",
    "print add_diagonal(original_matrix)"
   ]
  },
  {
   "cell_type": "markdown",
   "metadata": {},
   "source": [
    "I also created a function that only extracts the diagonal:"
   ]
  },
  {
   "cell_type": "code",
   "execution_count": 28,
   "metadata": {},
   "outputs": [
    {
     "name": "stdout",
     "output_type": "stream",
     "text": [
      "[[4. 0. 0. 0. 0.]\n",
      " [0. 4. 0. 0. 0.]\n",
      " [0. 0. 4. 0. 0.]\n",
      " [0. 0. 0. 4. 0.]\n",
      " [0. 0. 0. 0. 4.]]\n"
     ]
    }
   ],
   "source": [
    "def only_diagonal(matrix):\n",
    "    \"\"\"\n",
    "    Returns the diagonal of a given matrix\n",
    "    \"\"\"\n",
    "    only_diagonal = np.zeros(matrix.shape)   \n",
    "    for column_number_ in range(matrix.shape[1]):\n",
    "        only_diagonal[column_number_, column_number_] = np.size(np.nonzero(matrix[:, column_number_]))      \n",
    "    return only_diagonal\n",
    "\n",
    "print only_diagonal(original_matrix)"
   ]
  }
 ],
 "metadata": {
  "kernelspec": {
   "display_name": "Python [default]",
   "language": "python",
   "name": "python2"
  },
  "language_info": {
   "codemirror_mode": {
    "name": "ipython",
    "version": 2
   },
   "file_extension": ".py",
   "mimetype": "text/x-python",
   "name": "python",
   "nbconvert_exporter": "python",
   "pygments_lexer": "ipython2",
   "version": "2.7.13"
  }
 },
 "nbformat": 4,
 "nbformat_minor": 2
}
