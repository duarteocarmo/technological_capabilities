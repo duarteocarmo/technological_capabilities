{
 "cells": [
  {
   "cell_type": "markdown",
   "metadata": {},
   "source": [
    "# Capability Correlations and Organizations"
   ]
  },
  {
   "cell_type": "markdown",
   "metadata": {},
   "source": [
    "## 1. Data Extraction <a class=\"anchor\" id=\"one\"></a>"
   ]
  },
  {
   "cell_type": "markdown",
   "metadata": {},
   "source": [
    "Let's start by importing all of the external libraries that will be useful during the analysis. "
   ]
  },
  {
   "cell_type": "code",
   "execution_count": 1,
   "metadata": {
    "collapsed": true
   },
   "outputs": [],
   "source": [
    "from py2neo import Graph\n",
    "import numpy as np \n",
    "from pandas import DataFrame\n",
    "import itertools\n",
    "import matplotlib.pyplot as plt\n",
    "import seaborn as sns\n",
    "import json\n",
    "import math\n",
    "import pandas as pd\n",
    "import plotly \n",
    "import plotly.graph_objs as go\n",
    "import qgrid\n",
    "from scipy import stats, spatial\n",
    "from sklearn.cluster.bicluster import SpectralBiclustering\n",
    "import operator\n",
    "import random\n",
    "\n",
    "# connection to Neo4j\n",
    "local_connection_url = \"http://localhost:7474/db/data\"\n",
    "connection_to_graph = Graph(local_connection_url)\n",
    "\n",
    "# plotly credentials\n",
    "plotly_config = json.load(open('plotly_config.json'))\n",
    "plotly.tools.set_credentials_file(username=plotly_config['username'], api_key=plotly_config['key'])"
   ]
  },
  {
   "cell_type": "markdown",
   "metadata": {},
   "source": [
    "### 1.1. Organizations in the database <a class=\"anchor\" id=\"one-one\"></a>"
   ]
  },
  {
   "cell_type": "markdown",
   "metadata": {
    "collapsed": true
   },
   "source": [
    "We start by creating a list of all of the organizations available in our database."
   ]
  },
  {
   "cell_type": "code",
   "execution_count": 2,
   "metadata": {},
   "outputs": [
    {
     "name": "stdout",
     "output_type": "stream",
     "text": [
      "Here is an example organisation: KONKUK UNIV;EPS SOLUT LTD\n"
     ]
    }
   ],
   "source": [
    "# query orgs\n",
    "org_available_q = \"\"\"     MATCH (n:Asset)\n",
    "                            WITH n.owner as ORG\n",
    "                            RETURN ORG, count(ORG)\n",
    "                            ORDER BY count(ORG) DESC\"\"\"\n",
    "\n",
    "# create a list with the years where records exist\n",
    "raw_data = DataFrame(connection_to_graph.data(org_available_q)).as_matrix()[:, 0]\n",
    "organizations = list(raw_data)\n",
    "\n",
    "# print an example organization\n",
    "print 'Here is an example organisation: {}'.format(organizations[random.randint(1, len(organizations))])"
   ]
  },
  {
   "cell_type": "markdown",
   "metadata": {},
   "source": [
    "Now that we posess a list of the organizations we can start building a acapability matrix. "
   ]
  },
  {
   "cell_type": "markdown",
   "metadata": {},
   "source": [
    "The labels of the non intersecting part: "
   ]
  },
  {
   "cell_type": "code",
   "execution_count": 3,
   "metadata": {},
   "outputs": [
    {
     "name": "stdout",
     "output_type": "stream",
     "text": [
      "The axis list has 289 terms.\n"
     ]
    }
   ],
   "source": [
    "q_noInter_axis = \"\"\"    MATCH (a:Asset)-[:CONTAINS]->(fs:Feedstock)\n",
    "                        MATCH (a:Asset)-[:CONTAINS]->(out:Output)\n",
    "                        MATCH (a:Asset)-[:CONTAINS]->(pt:ProcessingTech)\n",
    "                        RETURN fs.term, pt.term, out.term, count(a)\n",
    "                                \"\"\"\n",
    "\n",
    "feedstocks = np.unique(DataFrame(connection_to_graph.data(q_noInter_axis)).as_matrix()[:, 1]).tolist()\n",
    "proc_tech = np.unique(DataFrame(connection_to_graph.data(q_noInter_axis)).as_matrix()[:, 2]).tolist()\n",
    "output = np.unique(DataFrame(connection_to_graph.data(q_noInter_axis)).as_matrix()[:, 3]).tolist()\n",
    "\n",
    "axis_names = feedstocks + proc_tech + output \n",
    "print 'The axis list has {} terms.'.format(len(axis_names))"
   ]
  },
  {
   "cell_type": "markdown",
   "metadata": {},
   "source": [
    "And some extra labels from intersecting queries. "
   ]
  },
  {
   "cell_type": "code",
   "execution_count": 4,
   "metadata": {},
   "outputs": [
    {
     "name": "stdout",
     "output_type": "stream",
     "text": [
      "The final axis list has 342 terms.\n"
     ]
    }
   ],
   "source": [
    "q_Inter_axis = \"\"\"  MATCH (a:Asset)-[:CONTAINS]->(fs:{})\n",
    "                    MATCH (a:Asset)-[:CONTAINS]->(t:{})\n",
    "                    WHERE fs<>t \n",
    "                    RETURN fs.term, t.term, count(a)\n",
    "                                    \"\"\"\n",
    "process_variables = ['Feedstock', 'Output', 'ProcessingTech']\n",
    "\n",
    "# Extra labels that only appear in non-intersection queries\n",
    "for category in process_variables:\n",
    "    data_no_intersections = DataFrame(connection_to_graph.data(q_Inter_axis.format(category, category))).as_matrix()\n",
    "    for column_number in range(1,3):\n",
    "        column = data_no_intersections[:, column_number]\n",
    "        for name in column:\n",
    "            if name not in axis_names:\n",
    "                axis_names.append(name)\n",
    "\n",
    "print 'The final axis list has {} terms.'.format(len(axis_names))                "
   ]
  },
  {
   "cell_type": "markdown",
   "metadata": {},
   "source": [
    "We create a function that given a certain organization, will return its capability matrix. "
   ]
  },
  {
   "cell_type": "code",
   "execution_count": 5,
   "metadata": {
    "collapsed": true
   },
   "outputs": [],
   "source": [
    "def get_org_matrix(org, normalization=True):\n",
    "    \n",
    "    # define queries\n",
    "    q1 = \"\"\"   MATCH (a:Asset)-[:CONTAINS]->(fs:Feedstock)\n",
    "                MATCH (a:Asset)-[:CONTAINS]->(out:Output)\n",
    "                MATCH (a:Asset)-[:CONTAINS]->(pt:ProcessingTech)\n",
    "                WHERE a.owner = \"{}\"\n",
    "                RETURN fs.term, pt.term, out.term, count(a)\n",
    "                                    \"\"\".format(org)\n",
    "    \n",
    "    process_variables = ['Feedstock', 'Output', 'ProcessingTech']\n",
    "    \n",
    "    q2 = \"\"\"   MATCH (a:Asset)-[:CONTAINS]->(fs:{})\n",
    "                MATCH (a:Asset)-[:CONTAINS]->(t:{})\n",
    "                WHERE fs<>t AND a.owner = \"{}\"\n",
    "                RETURN fs.term, t.term, count(a)\n",
    "                                    \"\"\"\n",
    "    # get data\n",
    "    data_q1 = DataFrame(connection_to_graph.data(q1)).as_matrix()\n",
    "    \n",
    "    # create matrix\n",
    "    org_matrix = np.zeros([len(axis_names), len(axis_names)])\n",
    "    \n",
    "    # for no intersections data\n",
    "    for row in data_q1:\n",
    "        # the last column is the frequency (count)\n",
    "        frequency = row[0]\n",
    "        indexes = [axis_names.index(element) for element in row[1::]]\n",
    "        # add frequency value to matrix position not inter\n",
    "        for pair in itertools.combinations(indexes, 2):\n",
    "            org_matrix[pair[0], pair[1]] += frequency\n",
    "            org_matrix[pair[1], pair[0]] += frequency\n",
    "    \n",
    "    # for intersecting data\n",
    "    for category in process_variables:\n",
    "        process_data = DataFrame(connection_to_graph.data(q2.format(category, category, org))).as_matrix()\n",
    "        for row in process_data:\n",
    "            frequency = row[0]\n",
    "            indexes = [axis_names.index(element) for element in row[1::]]\n",
    "            # add frequency value to matrix position inter\n",
    "            for pair in itertools.combinations(indexes, 2):\n",
    "                org_matrix[pair[0], pair[1]] += frequency / 2 # Divided by two because query not optimized\n",
    "                org_matrix[pair[1], pair[0]] += frequency / 2 # Divided by two because query not optimized\n",
    "    \n",
    "    # normalize\n",
    "    norm_org_matrix = (org_matrix - np.mean(org_matrix)) / np.std(org_matrix)\n",
    "    \n",
    "    # dynamic return \n",
    "    if normalization == True:\n",
    "        return norm_org_matrix\n",
    "    else: \n",
    "        return org_matrix"
   ]
  },
  {
   "cell_type": "markdown",
   "metadata": {},
   "source": [
    "We finally test our function with the Technical University of Denmark. "
   ]
  },
  {
   "cell_type": "code",
   "execution_count": 6,
   "metadata": {},
   "outputs": [
    {
     "data": {
      "image/png": "[encoded data removed]",
      "text/plain": [
       "<matplotlib.figure.Figure at 0x11eaf6990>"
      ]
     },
     "metadata": {},
     "output_type": "display_data"
    },
    {
     "name": "stdout",
     "output_type": "stream",
     "text": [
      "The maximum value of the TECH UNIV DENMARK matrix is in position (196, 234) with value 177.713106825 and concerns biogas and  anaerobic digestion.\n"
     ]
    }
   ],
   "source": [
    "organization = 'TECH UNIV DENMARK'\n",
    "dtu_matrix = get_org_matrix(organization)\n",
    "\n",
    "plt.subplots(1,1,figsize=(8, 8))\n",
    "plt.subplot(111)\n",
    "sns.heatmap(dtu_matrix, cbar=True, square=True, yticklabels=False, xticklabels=False)\n",
    "plt.show()\n",
    "\n",
    "\n",
    "i,j = np.unravel_index(dtu_matrix.argmax(), dtu_matrix.shape)\n",
    "print 'The maximum value of the {} matrix is in position {} with value {} and concerns {} and {}.'.format(organization, (i, j), dtu_matrix[i,j], axis_names[i], axis_names[j])"
   ]
  },
  {
   "cell_type": "markdown",
   "metadata": {},
   "source": []
  },
  {
   "cell_type": "markdown",
   "metadata": {},
   "source": [
    "In order to analyse the correlation of the orgnizations between themselves, we will need to transform each orgnization matrix into a list. Since the matrix is symmetrical, we will only need the upper triangle. For programming reasons, we have designed our own upper triangulization matrix. "
   ]
  },
  {
   "cell_type": "code",
   "execution_count": 7,
   "metadata": {},
   "outputs": [],
   "source": [
    "def get_list_from(matrix):\n",
    "    only_valuable = []\n",
    "    extension = 1\n",
    "    for row_number in range(matrix.shape[0]):\n",
    "        only_valuable.append(matrix[row_number, extension:matrix.shape[0]].tolist()) # numpy functions keep 0s so I hard coded it. \n",
    "        extension += 1 \n",
    "    return [element for column in only_valuable for element in column ]\n",
    "\n",
    "# example\n",
    "# a = np.array([[1,2,3, 4],[4,5,6, 34],[7,8,9, 45],[10,11,12, 89]])\n",
    "# print a\n",
    "# print get_list_from(a)"
   ]
  },
  {
   "cell_type": "markdown",
   "metadata": {},
   "source": []
  },
  {
   "cell_type": "markdown",
   "metadata": {},
   "source": [
    "Let's visualize the correlation between two years and their capability arrays. "
   ]
  },
  {
   "cell_type": "code",
   "execution_count": 8,
   "metadata": {},
   "outputs": [
    {
     "data": {
      "image/png": "[encoded data removed]",
      "text/plain": [
       "<matplotlib.figure.Figure at 0x110d195d0>"
      ]
     },
     "metadata": {},
     "output_type": "display_data"
    },
    {
     "name": "stdout",
     "output_type": "stream",
     "text": [
      "The pearson correlation index between the two organizations is: 0.137443942004 (P-value of 8.00766983664e-244)\n"
     ]
    }
   ],
   "source": [
    "# apply functions to both organizations\n",
    "org_1 = 'TECH UNIV DENMARK'\n",
    "org_2 = 'N CAROLINA STATE UNIV'\n",
    "org_1_list = get_list_from(get_org_matrix(org_1, normalization=True))\n",
    "org_2_list = get_list_from(get_org_matrix(org_2, normalization=True))\n",
    "\n",
    "# create a matrix where each row is a list of a country\n",
    "corelation = np.vstack((org_1_list, org_2_list))\n",
    "\n",
    "# plot the matrix \n",
    "plt.subplots(1,1,figsize=(20, 5))\n",
    "plt.subplot(111)\n",
    "sns.heatmap(corelation, cmap='flag_r', cbar=None, square=False, yticklabels=[org_1, org_2], xticklabels=False)\n",
    "plt.yticks(rotation=0)\n",
    "plt.title('Organization Capability List Visualization', size=15)\n",
    "plt.show()\n",
    "\n",
    "print 'The pearson correlation index between the two organizations is: {} (P-value of {})'.format(stats.pearsonr(org_1_list, org_2_list)[0], stats.pearsonr(org_1_list, org_2_list)[1])"
   ]
  },
  {
   "cell_type": "code",
   "execution_count": 13,
   "metadata": {},
   "outputs": [],
   "source": [
    "# to do: \n",
    "# define threshold for organizations (should be about 100)\n",
    "# save the lists of capability to file using np.save\n",
    "# build the matrix \n",
    "# buld the cluster plot\n"
   ]
  },
  {
   "cell_type": "code",
   "execution_count": null,
   "metadata": {},
   "outputs": [],
   "source": []
  },
  {
   "cell_type": "code",
   "execution_count": null,
   "metadata": {
    "collapsed": true
   },
   "outputs": [],
   "source": []
  }
 ],
 "metadata": {
  "kernelspec": {
   "display_name": "Python 2",
   "language": "python",
   "name": "python2"
  },
  "language_info": {
   "codemirror_mode": {
    "name": "ipython",
    "version": 2
   },
   "file_extension": ".py",
   "mimetype": "text/x-python",
   "name": "python",
   "nbconvert_exporter": "python",
   "pygments_lexer": "ipython2",
   "version": "2.7.13"
  }
 },
 "nbformat": 4,
 "nbformat_minor": 2
}
