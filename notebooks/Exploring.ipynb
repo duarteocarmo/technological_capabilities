{
 "cells": [
  {
   "cell_type": "markdown",
   "metadata": {},
   "source": [
    "# Data Exploration"
   ]
  },
  {
   "cell_type": "markdown",
   "metadata": {},
   "source": [
    "## Establishing a Connection"
   ]
  },
  {
   "cell_type": "markdown",
   "metadata": {},
   "source": [
    "Import necessary libraries"
   ]
  },
  {
   "cell_type": "code",
   "execution_count": 64,
   "metadata": {},
   "outputs": [],
   "source": [
    "from py2neo import Graph\n",
    "from pandas import DataFrame\n",
    "import pandas as pd\n",
    "import numpy as np\n",
    "import matplotlib.pyplot as plt\n",
    "from sklearn.preprocessing import normalize"
   ]
  },
  {
   "cell_type": "markdown",
   "metadata": {
    "collapsed": true
   },
   "source": [
    "Connect to running instance of Neo4J"
   ]
  },
  {
   "cell_type": "code",
   "execution_count": 65,
   "metadata": {
    "collapsed": true
   },
   "outputs": [],
   "source": [
    "graph_url = \"http://localhost:7474/db/data\"\n",
    "graph = Graph(graph_url)"
   ]
  },
  {
   "cell_type": "markdown",
   "metadata": {},
   "source": [
    "Test the connection"
   ]
  },
  {
   "cell_type": "code",
   "execution_count": 66,
   "metadata": {},
   "outputs": [
    {
     "data": {
      "text/html": [
       "<div>\n",
       "<style>\n",
       "    .dataframe thead tr:only-child th {\n",
       "        text-align: right;\n",
       "    }\n",
       "\n",
       "    .dataframe thead th {\n",
       "        text-align: left;\n",
       "    }\n",
       "\n",
       "    .dataframe tbody tr th {\n",
       "        vertical-align: top;\n",
       "    }\n",
       "</style>\n",
       "<table border=\"1\" class=\"dataframe\">\n",
       "  <thead>\n",
       "    <tr style=\"text-align: right;\">\n",
       "      <th></th>\n",
       "      <th>Country</th>\n",
       "    </tr>\n",
       "  </thead>\n",
       "  <tbody>\n",
       "    <tr>\n",
       "      <th>0</th>\n",
       "      <td>Australia</td>\n",
       "    </tr>\n",
       "    <tr>\n",
       "      <th>1</th>\n",
       "      <td>Belgium</td>\n",
       "    </tr>\n",
       "    <tr>\n",
       "      <th>2</th>\n",
       "      <td>United States of America</td>\n",
       "    </tr>\n",
       "    <tr>\n",
       "      <th>3</th>\n",
       "      <td>Brazil</td>\n",
       "    </tr>\n",
       "    <tr>\n",
       "      <th>4</th>\n",
       "      <td>Canada</td>\n",
       "    </tr>\n",
       "    <tr>\n",
       "      <th>5</th>\n",
       "      <td>Poland</td>\n",
       "    </tr>\n",
       "    <tr>\n",
       "      <th>6</th>\n",
       "      <td>Germany</td>\n",
       "    </tr>\n",
       "    <tr>\n",
       "      <th>7</th>\n",
       "      <td>Finland</td>\n",
       "    </tr>\n",
       "    <tr>\n",
       "      <th>8</th>\n",
       "      <td>People's Republic of China</td>\n",
       "    </tr>\n",
       "    <tr>\n",
       "      <th>9</th>\n",
       "      <td>Czech Republic</td>\n",
       "    </tr>\n",
       "  </tbody>\n",
       "</table>\n",
       "</div>"
      ],
      "text/plain": [
       "                      Country\n",
       "0                   Australia\n",
       "1                     Belgium\n",
       "2    United States of America\n",
       "3                      Brazil\n",
       "4                      Canada\n",
       "5                      Poland\n",
       "6                     Germany\n",
       "7                     Finland\n",
       "8  People's Republic of China\n",
       "9              Czech Republic"
      ]
     },
     "execution_count": 66,
     "metadata": {},
     "output_type": "execute_result"
    }
   ],
   "source": [
    "test_query = \"\"\"    MATCH (n:Country) \n",
    "                    WITH n.name AS Country \n",
    "                    RETURN Country\n",
    "                    LIMIT 10;   \"\"\"\n",
    "\n",
    "DataFrame(graph.data(test_query))"
   ]
  },
  {
   "cell_type": "markdown",
   "metadata": {},
   "source": [
    "Let us see the number of publications over the years in the database"
   ]
  },
  {
   "cell_type": "code",
   "execution_count": 67,
   "metadata": {},
   "outputs": [
    {
     "data": {
      "image/png": "[encoded data removed]",
      "text/plain": [
       "<matplotlib.figure.Figure at 0x114a8be10>"
      ]
     },
     "metadata": {},
     "output_type": "display_data"
    }
   ],
   "source": [
    "# query \n",
    "date_query = \"\"\" MATCH (n:PUBLICATION)\n",
    "                RETURN labels(n), n.year, count(*)\n",
    "                ORDER BY n.year\n",
    "                \"\"\"\n",
    "# Extract number of publications and years, remove last entry because its \"Null\"\n",
    "matrix = DataFrame(graph.data(date_query)).as_matrix()\n",
    "dates =  matrix[:, 2][0:-1]\n",
    "numbers = matrix[:, 0][0:-1]\n",
    "\n",
    "# plot the thing\n",
    "plt.title(\"Number of publications over time\")\n",
    "plt.xlabel(\"Year\")\n",
    "plt.ylabel(\"Number of Patents\")\n",
    "plt.plot(dates, numbers)\n",
    "plt.grid()\n",
    "plt.show()"
   ]
  },
  {
   "cell_type": "markdown",
   "metadata": {},
   "source": [
    "## Creating the matrix"
   ]
  },
  {
   "cell_type": "markdown",
   "metadata": {},
   "source": [
    "The goal of this part is to create a frequency matrix.\n",
    "\n",
    "This frequency matrix has the following items: \n",
    "* Feedstock\n",
    "* Processing Tech\n",
    "* Output\n"
   ]
  },
  {
   "cell_type": "markdown",
   "metadata": {},
   "source": [
    "Make query"
   ]
  },
  {
   "cell_type": "code",
   "execution_count": 68,
   "metadata": {
    "collapsed": true
   },
   "outputs": [],
   "source": [
    "query = \"\"\" MATCH p1=(feed:Feedstock)<-[:CONTAINS]-(a1:Asset)-[:CONTAINS]->(proc:ProcessingTech)\n",
    "            MATCH p2=(proc:ProcessingTech)<-[:CONTAINS]-(a1:Asset)-[:CONTAINS]->(out:Output) \n",
    "            WITH feed.term AS Feedstock, proc.term AS Processing_Technology, out.term AS Output, count(p1) AS count \n",
    "            RETURN Feedstock, Processing_Technology, Output, count \n",
    "            ORDER BY count\"\"\" # DESC LIMIT 300\n",
    "data = DataFrame(graph.data(query)).as_matrix()"
   ]
  },
  {
   "cell_type": "markdown",
   "metadata": {},
   "source": [
    "Create axis "
   ]
  },
  {
   "cell_type": "code",
   "execution_count": 69,
   "metadata": {},
   "outputs": [],
   "source": [
    "feedstock = set(list(data[:, 0]))\n",
    "processing_technology = set(list(data[:, 1]))\n",
    "output = set(list(data[:, 2]))\n",
    "\n",
    "matrix_axis = list(feedstock) + list(processing_technology) + list(output)"
   ]
  },
  {
   "cell_type": "markdown",
   "metadata": {},
   "source": [
    "Build Matrix "
   ]
  },
  {
   "cell_type": "code",
   "execution_count": 70,
   "metadata": {},
   "outputs": [],
   "source": [
    "# initialize matrix\n",
    "matrix = np.zeros([len(matrix_axis), len(matrix_axis)])\n",
    "\n",
    "# find index of element in a given list\n",
    "def find_index(element, in_list):\n",
    "    return in_list.index(element)\n",
    "\n",
    "# for every row in original response\n",
    "for row in data:\n",
    "    # the last column is the frequency\n",
    "    frequency = row[-1]\n",
    "    indexes = [find_index(element, matrix_axis) for element in row[0:-1]]\n",
    "    # add frequency value to matrix position\n",
    "    matrix[indexes[0], indexes[1]] += frequency\n",
    "    matrix[indexes[0], indexes[2]] += frequency\n",
    "    matrix[indexes[1], indexes[2]] += frequency"
   ]
  },
  {
   "cell_type": "markdown",
   "metadata": {},
   "source": [
    "Let us normalize and visualize the matrix as a heatmap"
   ]
  },
  {
   "cell_type": "code",
   "execution_count": 74,
   "metadata": {},
   "outputs": [
    {
     "data": {
      "image/png": "[encoded data removed]",
      "text/plain": [
       "<matplotlib.figure.Figure at 0x11a9a25d0>"
      ]
     },
     "metadata": {},
     "output_type": "display_data"
    }
   ],
   "source": [
    "# normalize matrix using scipy normalization available here: http://scikit-learn.org/stable/modules/preprocessing.html#preprocessing-normalization\n",
    "normalized_matrix = normalize(matrix, norm='l2')\n",
    "\n",
    "# plot a heatmap of the matrix\n",
    "fig, ax = plt.subplots(figsize=(8,8))\n",
    "ax.imshow(normalized_matrix, cmap='hot', interpolation='none') # plt.cm.Reds\n",
    "ax.set_xticklabels(matrix_axis)\n",
    "ax.set_yticklabels(matrix_axis)\n",
    "plt.xticks(rotation=90) \n",
    "plt.show()"
   ]
  },
  {
   "cell_type": "code",
   "execution_count": null,
   "metadata": {},
   "outputs": [],
   "source": []
  },
  {
   "cell_type": "code",
   "execution_count": null,
   "metadata": {
    "collapsed": true
   },
   "outputs": [],
   "source": []
  }
 ],
 "metadata": {
  "kernelspec": {
   "display_name": "Python 2",
   "language": "python",
   "name": "python2"
  },
  "language_info": {
   "codemirror_mode": {
    "name": "ipython",
    "version": 2
   },
   "file_extension": ".py",
   "mimetype": "text/x-python",
   "name": "python",
   "nbconvert_exporter": "python",
   "pygments_lexer": "ipython2",
   "version": "2.7.13"
  }
 },
 "nbformat": 4,
 "nbformat_minor": 2
}
