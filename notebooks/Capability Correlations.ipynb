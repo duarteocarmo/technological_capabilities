{
 "cells": [
  {
   "cell_type": "markdown",
   "metadata": {},
   "source": [
    "# Capability Correlations"
   ]
  },
  {
   "cell_type": "markdown",
   "metadata": {},
   "source": [
    "## 1. Database Matrix of Occurences"
   ]
  },
  {
   "cell_type": "markdown",
   "metadata": {
    "collapsed": true
   },
   "source": [
    "In order to establish a base for understading the basis of the work, we wish to understand the occurence of severall feedstocks, pricessing technologies and outputs in our database. \n",
    "\n",
    "For example, how many assets (patents, papers, etc) contain the mix of processing technology X for output Y? \n",
    "\n",
    "To understand this in a more general way, the AMICA database will be transformed in an [co-occurence matrix](https://en.wikipedia.org/wiki/Co-occurrence_matrix). This means, in the above described example that the number of assets that contain that mix will be an entry in a matrix, whyle the corresponfing technology and output will be columns/lines of the matrix. "
   ]
  },
  {
   "cell_type": "markdown",
   "metadata": {},
   "source": [
    "### 1.1. Getting the data from Neo4j"
   ]
  },
  {
   "cell_type": "markdown",
   "metadata": {},
   "source": [
    "The first step in the analysis is to get the data from the [AMICA](https://amica-pathfinder.net/) database. This data is stored in a graph database of the type [Neo4j](https://neo4j.com/). To get it, cypher queries must be designed. \n",
    "\n",
    "We start by importing necessary libraries.  "
   ]
  },
  {
   "cell_type": "code",
   "execution_count": 71,
   "metadata": {
    "collapsed": true
   },
   "outputs": [],
   "source": [
    "from py2neo import Graph\n",
    "import numpy as np \n",
    "from pandas import DataFrame\n",
    "import itertools\n",
    "import matplotlib.pyplot as plt\n",
    "import seaborn as sns"
   ]
  },
  {
   "cell_type": "markdown",
   "metadata": {},
   "source": [
    "After that, we use [py2neo](http://py2neo.org/v3/) to establish a connection to our notebook. "
   ]
  },
  {
   "cell_type": "code",
   "execution_count": 72,
   "metadata": {
    "collapsed": true
   },
   "outputs": [],
   "source": [
    "local_connection_url = \"http://localhost:7474/db/data\"\n",
    "connection_to_graph = Graph(local_connection_url)"
   ]
  },
  {
   "cell_type": "markdown",
   "metadata": {},
   "source": [
    "### 1.2. Designing the queries"
   ]
  },
  {
   "cell_type": "markdown",
   "metadata": {},
   "source": [
    "Two queries to the database were designed, the first, only related to non interescting data, this means, looking for co-occurences of outputs-technologies, technologies-feedstocks and feedstocks-outputs. "
   ]
  },
  {
   "cell_type": "code",
   "execution_count": 73,
   "metadata": {
    "collapsed": true
   },
   "outputs": [],
   "source": [
    "query_no_interestions = \"\"\"     MATCH (a:Asset)-[:CONTAINS]->(fs:Feedstock)\n",
    "                                MATCH (a:Asset)-[:CONTAINS]->(out:Output)\n",
    "                                MATCH (a:Asset)-[:CONTAINS]->(pt:ProcessingTech)\n",
    "                                RETURN fs.term, pt.term, out.term, count(a)\n",
    "                        \"\"\""
   ]
  },
  {
   "cell_type": "markdown",
   "metadata": {},
   "source": [
    "The second query is designed to also fetch the intersections between different outputs, different processing technologies and different feedstocks. "
   ]
  },
  {
   "cell_type": "code",
   "execution_count": 74,
   "metadata": {
    "collapsed": true
   },
   "outputs": [],
   "source": [
    "# issue: this query needs to be divided by two when building the matrix -> NON OPTIMIZED\n",
    "process_variables = ['Feedstock', 'Output', 'ProcessingTech']\n",
    "query_intersections = \"\"\"       MATCH (a:Asset)-[:CONTAINS]->(fs:{})\n",
    "                                MATCH (a:Asset)-[:CONTAINS]->(t:{})\n",
    "                                WHERE fs<>t\n",
    "                                RETURN fs.term, t.term, count(a)\n",
    "                      \"\"\""
   ]
  },
  {
   "cell_type": "markdown",
   "metadata": {},
   "source": [
    "### 1.3. Building the Matrix: No Intersections"
   ]
  },
  {
   "cell_type": "markdown",
   "metadata": {},
   "source": [
    "In order to get the axis of our co-occurence matrix we make all the necessary queries and gather all the names that appear in a `matrix_axis_names` list."
   ]
  },
  {
   "cell_type": "code",
   "execution_count": 75,
   "metadata": {},
   "outputs": [],
   "source": [
    "# Return dataframe with no interesections\n",
    "data_no_intersections = DataFrame(connection_to_graph.data(query_no_interestions)).as_matrix()\n",
    "\n",
    "# Get axis names from columns and add them in a list\n",
    "feedstock_names = set(list(data_no_intersections[:, 1]))\n",
    "processing_technology_names = set(list(data_no_intersections[:, 2]))\n",
    "output_names = set(list(data_no_intersections[:, 3]))\n",
    "matrix_axis_names = list(feedstock_names) + list(processing_technology_names) + list(output_names)\n",
    "\n",
    "# Extra names that only appear in non-intersection query\n",
    "for category in process_variables:\n",
    "    data_no_intersections = DataFrame(connection_to_graph.data(query_intersections.format(category, category))).as_matrix()\n",
    "    for column_number in range(1,3):\n",
    "        column = data_no_intersections[:, column_number]\n",
    "        for name in column:\n",
    "            if name not in matrix_axis_names:\n",
    "                matrix_axis_names.append(name)"
   ]
  },
  {
   "cell_type": "markdown",
   "metadata": {},
   "source": [
    "The co-occurence matrix will be called `matrix`. In order to get things started we need two things: \n",
    "\n",
    "- An empty matrix with the shape of the previously built axis:"
   ]
  },
  {
   "cell_type": "code",
   "execution_count": 76,
   "metadata": {
    "collapsed": true
   },
   "outputs": [],
   "source": [
    "matrix = np.zeros([len(matrix_axis_names), len(matrix_axis_names)])"
   ]
  },
  {
   "cell_type": "markdown",
   "metadata": {},
   "source": [
    "- A function that given a certain name, returns the position of that name in a list:"
   ]
  },
  {
   "cell_type": "code",
   "execution_count": 77,
   "metadata": {
    "collapsed": true
   },
   "outputs": [],
   "source": [
    "def find_index(something, in_list):\n",
    "    return in_list.index(something)"
   ]
  },
  {
   "cell_type": "markdown",
   "metadata": {},
   "source": [
    "Finally, we can start building the first part of the matrix. To do so, we iterated over all of the rows of the data retreived in the `data_no_intersections` table. "
   ]
  },
  {
   "cell_type": "code",
   "execution_count": 78,
   "metadata": {
    "collapsed": true
   },
   "outputs": [],
   "source": [
    "# for every row in original response\n",
    "for row in data_no_intersections:\n",
    "    # the last column is the frequency (count)\n",
    "    frequency = row[0]\n",
    "    indexes = [find_index(element, matrix_axis_names) for element in row[1::]]\n",
    "    # add frequency value to matrix position\n",
    "    for pair in itertools.combinations(indexes, 2):\n",
    "        matrix[pair[0], pair[1]] += frequency\n",
    "        matrix[pair[1], pair[0]] += frequency"
   ]
  },
  {
   "cell_type": "markdown",
   "metadata": {},
   "source": [
    "### 1.4. Building the Matrix: With Intersections"
   ]
  },
  {
   "cell_type": "markdown",
   "metadata": {},
   "source": [
    "The second part of the matrix that should be built related to the second query. Intersecting categories. "
   ]
  },
  {
   "cell_type": "code",
   "execution_count": 79,
   "metadata": {},
   "outputs": [
    {
     "name": "stdout",
     "output_type": "stream",
     "text": [
      "Processing  Feedstock\n",
      "Processing  Output\n",
      "Processing  ProcessingTech\n"
     ]
    }
   ],
   "source": [
    "for category in process_variables:\n",
    "    print 'Processing ', category\n",
    "    process_data = DataFrame(connection_to_graph.data(query_intersections.format(category, category))).as_matrix()\n",
    "    for row in process_data:\n",
    "        frequency = row[0]\n",
    "        indexes = [find_index(element, matrix_axis_names) for element in row[1::]]\n",
    "        #     add frequency value to matrix position\n",
    "        for pair in itertools.combinations(indexes, 2):\n",
    "            matrix[pair[0], pair[1]] += frequency / 2 # Divided by two because query not optimized\n",
    "            matrix[pair[1], pair[0]] += frequency / 2 # Divided by two because query not optimized"
   ]
  },
  {
   "cell_type": "markdown",
   "metadata": {},
   "source": [
    "### 1.5. Testing the co-occurence matrix"
   ]
  },
  {
   "cell_type": "markdown",
   "metadata": {},
   "source": [
    "Let's start by getting some basic stats: "
   ]
  },
  {
   "cell_type": "code",
   "execution_count": 80,
   "metadata": {},
   "outputs": [
    {
     "name": "stdout",
     "output_type": "stream",
     "text": [
      "Rows: 342\n",
      "Columns: 342\n",
      "Mean:  1.31879894668\n",
      "Standart Deviation 15.6499107707\n",
      "Max:  1626.0\n",
      "Min:  0.0\n"
     ]
    }
   ],
   "source": [
    "print 'Rows:', matrix.shape[0]\n",
    "print 'Columns:', matrix.shape[1]\n",
    "print 'Mean: ', np.mean(matrix)\n",
    "print 'Standart Deviation', np.std(matrix)\n",
    "print 'Max: ', np.amax(matrix)\n",
    "print 'Min: ', np.amin(matrix)"
   ]
  },
  {
   "cell_type": "markdown",
   "metadata": {},
   "source": [
    "Normalize it: "
   ]
  },
  {
   "cell_type": "code",
   "execution_count": 81,
   "metadata": {
    "collapsed": true
   },
   "outputs": [],
   "source": [
    "normalized_matrix = (matrix - np.mean(matrix)) / np.std(matrix)"
   ]
  },
  {
   "cell_type": "markdown",
   "metadata": {},
   "source": [
    "Let's check if the normalized and non-normalized matrixes are symetrical (they should)."
   ]
  },
  {
   "cell_type": "code",
   "execution_count": 82,
   "metadata": {},
   "outputs": [
    {
     "name": "stdout",
     "output_type": "stream",
     "text": [
      "The non normalized matrix is symmetrical: True\n",
      "The normalized matrix is symmetrical: True\n"
     ]
    }
   ],
   "source": [
    "def check_symmetric(a, tol):\n",
    "    return np.allclose(a, a.T, atol=tol)\n",
    "\n",
    "print 'The non normalized matrix is symmetrical: {}'.format(check_symmetric(matrix, 1e-8))\n",
    "print 'The normalized matrix is symmetrical: {}'.format(check_symmetric(normalized_matrix, 1e-8))"
   ]
  },
  {
   "cell_type": "markdown",
   "metadata": {},
   "source": [
    "The diagonal of the non-normalized matrix is all zeros: "
   ]
  },
  {
   "cell_type": "code",
   "execution_count": 83,
   "metadata": {},
   "outputs": [],
   "source": [
    "for column_number in range(matrix.shape[0]):\n",
    "    if matrix[column_number, column_number] != 0:\n",
    "        print 'Non-zero entry found in entry {}'.format(column_number)"
   ]
  },
  {
   "cell_type": "markdown",
   "metadata": {},
   "source": [
    "### 1.6. Printing the matrix"
   ]
  },
  {
   "cell_type": "code",
   "execution_count": 85,
   "metadata": {},
   "outputs": [
    {
     "data": {
      "image/png": "[encoded data removed]",
      "text/plain": [
       "<matplotlib.figure.Figure at 0x11f581890>"
      ]
     },
     "metadata": {},
     "output_type": "display_data"
    }
   ],
   "source": [
    "plt.subplots(2,1,figsize=(15,15))\n",
    "\n",
    "plt.subplot(121)\n",
    "sns.heatmap(matrix, cmap='BuPu', cbar=None, square=True, xticklabels=False, yticklabels=False)\n",
    "plt.title('Co-occurence matrix heatmap: Non-normalized')\n",
    "\n",
    "plt.subplot(122)\n",
    "sns.heatmap(normalized_matrix, cmap='BuPu', cbar=None, square=True, xticklabels=False, yticklabels=False)\n",
    "plt.title('Co-occurence matrix heatmap: Normalized')\n",
    "plt.show()"
   ]
  },
  {
   "cell_type": "code",
   "execution_count": null,
   "metadata": {
    "collapsed": true
   },
   "outputs": [],
   "source": []
  }
 ],
 "metadata": {
  "kernelspec": {
   "display_name": "Python 2",
   "language": "python",
   "name": "python2"
  },
  "language_info": {
   "codemirror_mode": {
    "name": "ipython",
    "version": 2
   },
   "file_extension": ".py",
   "mimetype": "text/x-python",
   "name": "python",
   "nbconvert_exporter": "python",
   "pygments_lexer": "ipython2",
   "version": "2.7.13"
  }
 },
 "nbformat": 4,
 "nbformat_minor": 2
}
