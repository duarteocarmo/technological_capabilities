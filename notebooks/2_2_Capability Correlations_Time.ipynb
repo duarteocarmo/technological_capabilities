{
 "cells": [
  {
   "cell_type": "markdown",
   "metadata": {},
   "source": [
    "# Capability Correlations and Time"
   ]
  },
  {
   "cell_type": "markdown",
   "metadata": {},
   "source": [
    "In the second part of the analysis we will focus on how the global capabilities change with time. This part looks to answer one main question that can be divided into other severall research questions. \n",
    "- How does the research and innovation in a certain field change over time? \n",
    "- Are there any chronological gaps in the research throughout the years? \n",
    "[...]"
   ]
  },
  {
   "cell_type": "markdown",
   "metadata": {},
   "source": [
    "### Table of Contents\n",
    "[//]: # (- [1. Database Matrix of Occurences](#one))\n",
    "[//]: # (  - [1.1. Getting the data from Neo4j](#one-one))\n",
    "[//]: # (  - [1.2. Designing the queries](#one-two)    )\n",
    "[//]: # (  - [1.3. The first part of the matrix: No intersections.](#one-three))\n",
    "[//]: # (  - [1.4. The second part of the matrix: Intersections.](#one-four))\n",
    "[//]: # (  - [1.5. Testing the co-occurence matrix](#one-five))\n",
    "[//]: # (  - [1.6. Printing the matrix](#one-six))\n",
    "[//]: # (- [2. Co-occurence by country](#two))\n",
    "[//]: # (  - [2.1. Co-ocurence matrixes for countries](#two-one))\n",
    "[//]: # (  - [2.2. Transforming the co-occurence matrix into a list](#two-two))\n",
    "[//]: # (  - [2.3. Visualizing correlations](#two-three))\n",
    "[//]: # (  - [2.4. Creating a correlation matrix](#two-four))\n",
    "[//]: # (    - [2.4.1. Regular Matrix](#two-four-one))\n",
    "[//]: # (    - [2.4.2. Reordered Matrix: Clustermap](#two-four-two))\n",
    "[//]: # (  - [2.5. Country profiles](#two-five))\n",
    "[//]: # (- [3. Contextual Relations](#three))"
   ]
  },
  {
   "cell_type": "markdown",
   "metadata": {},
   "source": [
    "## 1. Data Extraction"
   ]
  },
  {
   "cell_type": "markdown",
   "metadata": {},
   "source": [
    "Let's start by importing all of the external libraries that will be useful during the analysis. "
   ]
  },
  {
   "cell_type": "code",
   "execution_count": 27,
   "metadata": {
    "collapsed": true
   },
   "outputs": [],
   "source": [
    "from py2neo import Graph\n",
    "import numpy as np \n",
    "from pandas import DataFrame\n",
    "import itertools\n",
    "import matplotlib.pyplot as plt\n",
    "import seaborn as sns\n",
    "import json\n",
    "import math\n",
    "import pandas as pd\n",
    "import plotly \n",
    "import plotly.graph_objs as go\n",
    "import qgrid\n",
    "from scipy import stats, spatial\n",
    "from sklearn.cluster.bicluster import SpectralBiclustering\n",
    "import operator\n",
    "\n",
    "# connection to Neo4j\n",
    "local_connection_url = \"http://localhost:7474/db/data\"\n",
    "connection_to_graph = Graph(local_connection_url)\n",
    "\n",
    "# plotly credentials\n",
    "plotly_config = json.load(open('plotly_config.json'))\n",
    "plotly.tools.set_credentials_file(username=plotly_config['username'], api_key=plotly_config['key'])"
   ]
  },
  {
   "cell_type": "markdown",
   "metadata": {},
   "source": [
    "### 1.1. The Years"
   ]
  },
  {
   "cell_type": "markdown",
   "metadata": {
    "collapsed": true
   },
   "source": [
    "Not all years in the Neo4j databse contain technological assets. For this reason, two lists will be created. A completely chronological one and a database one. "
   ]
  },
  {
   "cell_type": "code",
   "execution_count": 28,
   "metadata": {},
   "outputs": [
    {
     "name": "stdout",
     "output_type": "stream",
     "text": [
      "The database list starts in 1938, ends in 2019 and contains 38 years.\n",
      "The real list starts in 1938, ends in 2019 and contains 82 years.\n"
     ]
    }
   ],
   "source": [
    "# query years\n",
    "years_available_q = \"\"\"     MATCH (n:Asset)\n",
    "                            WITH n.year as YEAR\n",
    "                            RETURN YEAR, count(YEAR)\n",
    "                            ORDER BY YEAR ASC \"\"\"\n",
    "\n",
    "# create a list with the years where records exist\n",
    "years_available = DataFrame(connection_to_graph.data(years_available_q)).as_matrix()[:, 0][:-1]\n",
    "years_available = [int(year) for year in years_available]\n",
    "\n",
    "# create a pure range list\n",
    "first_year = int(years_available[0])\n",
    "last_year = int(years_available[-1])\n",
    "real_years = range(first_year, last_year + 1, 1)\n",
    "\n",
    "# give information \n",
    "print 'The database list starts in {}, ends in {} and contains {} years.'.format(years_available[0], years_available[-1], len(years_available))\n",
    "print 'The real list starts in {}, ends in {} and contains {} years.'.format(real_years[0], real_years[-1], len(real_years))"
   ]
  },
  {
   "cell_type": "markdown",
   "metadata": {},
   "source": [
    "Now that we have all of the years available, we can start building the technological capability matrixes, with a similar process to what was previsouly done. "
   ]
  },
  {
   "cell_type": "markdown",
   "metadata": {},
   "source": [
    "### 1.2. Co-occurence matrix for the years"
   ]
  },
  {
   "cell_type": "markdown",
   "metadata": {},
   "source": [
    "#### 1.2.1. Getting the labels"
   ]
  },
  {
   "cell_type": "markdown",
   "metadata": {},
   "source": [
    "We start by importing a few methods from the previous notebook. "
   ]
  },
  {
   "cell_type": "code",
   "execution_count": 29,
   "metadata": {
    "collapsed": true
   },
   "outputs": [],
   "source": [
    "def find_index(something, in_list):\n",
    "    return in_list.index(something)"
   ]
  },
  {
   "cell_type": "markdown",
   "metadata": {},
   "source": [
    "Let's first get all of the axis that our matrixes will take.\n",
    "\n",
    "We start by designing two queries that will help us get all of the labels of the matrix. "
   ]
  },
  {
   "cell_type": "markdown",
   "metadata": {},
   "source": [
    "The labels of the non intersecting part: "
   ]
  },
  {
   "cell_type": "code",
   "execution_count": 30,
   "metadata": {},
   "outputs": [
    {
     "name": "stdout",
     "output_type": "stream",
     "text": [
      "The axis list has 289 terms.\n"
     ]
    }
   ],
   "source": [
    "q_noInter_axis = \"\"\"    MATCH (a:Asset)-[:CONTAINS]->(fs:Feedstock)\n",
    "                        MATCH (a:Asset)-[:CONTAINS]->(out:Output)\n",
    "                        MATCH (a:Asset)-[:CONTAINS]->(pt:ProcessingTech)\n",
    "                        RETURN fs.term, pt.term, out.term, count(a)\n",
    "                                \"\"\"\n",
    "\n",
    "feedstocks = np.unique(DataFrame(connection_to_graph.data(q_noInter_axis)).as_matrix()[:, 1]).tolist()\n",
    "proc_tech = np.unique(DataFrame(connection_to_graph.data(q_noInter_axis)).as_matrix()[:, 2]).tolist()\n",
    "output = np.unique(DataFrame(connection_to_graph.data(q_noInter_axis)).as_matrix()[:, 3]).tolist()\n",
    "\n",
    "axis_names = feedstocks + proc_tech + output \n",
    "print 'The axis list has {} terms.'.format(len(axis_names))"
   ]
  },
  {
   "cell_type": "markdown",
   "metadata": {},
   "source": [
    "The labels of the intersecting part:"
   ]
  },
  {
   "cell_type": "code",
   "execution_count": 31,
   "metadata": {},
   "outputs": [
    {
     "name": "stdout",
     "output_type": "stream",
     "text": [
      "The axis list has 342 terms.\n"
     ]
    }
   ],
   "source": [
    "q_Inter_axis = \"\"\"  MATCH (a:Asset)-[:CONTAINS]->(fs:{})\n",
    "                    MATCH (a:Asset)-[:CONTAINS]->(t:{})\n",
    "                    WHERE fs<>t \n",
    "                    RETURN fs.term, t.term, count(a)\n",
    "                                    \"\"\"\n",
    "process_variables = ['Feedstock', 'Output', 'ProcessingTech']\n",
    "\n",
    "# Extra labels that only appear in non-intersection queries\n",
    "for category in process_variables:\n",
    "    data_no_intersections = DataFrame(connection_to_graph.data(q_Inter_axis.format(category, category))).as_matrix()\n",
    "    for column_number in range(1,3):\n",
    "        column = data_no_intersections[:, column_number]\n",
    "        for name in column:\n",
    "            if name not in axis_names:\n",
    "                axis_names.append(name)\n",
    "\n",
    "print 'The axis list has {} terms.'.format(len(axis_names))                "
   ]
  },
  {
   "cell_type": "markdown",
   "metadata": {},
   "source": [
    "#### 1.2.2. Function"
   ]
  },
  {
   "cell_type": "markdown",
   "metadata": {},
   "source": [
    "We start by creating a function that given a certain year, returns the year's capability matrix. "
   ]
  },
  {
   "cell_type": "code",
   "execution_count": 32,
   "metadata": {},
   "outputs": [],
   "source": [
    "def get_year_matrix(year, normalization=True):\n",
    "    \n",
    "    # define queries\n",
    "    q1 = \"\"\"   MATCH (a:Asset)-[:CONTAINS]->(fs:Feedstock)\n",
    "                MATCH (a:Asset)-[:CONTAINS]->(out:Output)\n",
    "                MATCH (a:Asset)-[:CONTAINS]->(pt:ProcessingTech)\n",
    "                WHERE a.year = \"{}\"\n",
    "                RETURN fs.term, pt.term, out.term, count(a)\n",
    "                                    \"\"\".format(year)\n",
    "    \n",
    "    process_variables = ['Feedstock', 'Output', 'ProcessingTech']\n",
    "    \n",
    "    q2 = \"\"\"   MATCH (a:Asset)-[:CONTAINS]->(fs:{})\n",
    "                MATCH (a:Asset)-[:CONTAINS]->(t:{})\n",
    "                WHERE fs<>t AND a.year = \"{}\"\n",
    "                RETURN fs.term, t.term, count(a)\n",
    "                                    \"\"\"\n",
    "    # get data\n",
    "    data_q1 = DataFrame(connection_to_graph.data(q1)).as_matrix()\n",
    "    \n",
    "    # create matrix\n",
    "    year_matrix = np.zeros([len(axis_names), len(axis_names)])\n",
    "    \n",
    "    # for no intersections data\n",
    "    for row in data_q1:\n",
    "        # the last column is the frequency (count)\n",
    "        frequency = row[0]\n",
    "        indexes = [find_index(element, axis_names) for element in row[1::]]\n",
    "        # add frequency value to matrix position not inter\n",
    "        for pair in itertools.combinations(indexes, 2):\n",
    "            year_matrix[pair[0], pair[1]] += frequency\n",
    "            year_matrix[pair[1], pair[0]] += frequency\n",
    "    \n",
    "    # for intersecting data\n",
    "    for category in process_variables:\n",
    "        process_data = DataFrame(connection_to_graph.data(q2.format(category, category, year))).as_matrix()\n",
    "        for row in process_data:\n",
    "            frequency = row[0]\n",
    "            indexes = [find_index(element, axis_names) for element in row[1::]]\n",
    "            # add frequency value to matrix position inter\n",
    "            for pair in itertools.combinations(indexes, 2):\n",
    "                year_matrix[pair[0], pair[1]] += frequency / 2 # Divided by two because query not optimized\n",
    "                year_matrix[pair[1], pair[0]] += frequency / 2 # Divided by two because query not optimized\n",
    "    \n",
    "    # normalize\n",
    "    norm_year_matrix = (year_matrix - np.mean(year_matrix)) / np.std(year_matrix)\n",
    "    \n",
    "    # dynamic return \n",
    "    if normalization == True:\n",
    "        return norm_year_matrix\n",
    "    else: \n",
    "        return year_matrix"
   ]
  },
  {
   "cell_type": "markdown",
   "metadata": {},
   "source": [
    "We finally test our function with the year 2016. "
   ]
  },
  {
   "cell_type": "code",
   "execution_count": 33,
   "metadata": {},
   "outputs": [
    {
     "name": "stdout",
     "output_type": "stream",
     "text": [
      "The matrix from 2016 has shape (342, 342) a max value of 94.0056982009, a min value of -0.0794170079582 and a mean of 1.02058051715e-17.\n"
     ]
    }
   ],
   "source": [
    "year = 2016\n",
    "print 'The matrix from {} has shape {} a max value of {}, a min value of {} and a mean of {}.'.format(year, get_year_matrix(year).shape, np.amax(get_year_matrix(year)), np.amin(get_year_matrix(year)), np.mean(get_year_matrix(year)))"
   ]
  },
  {
   "cell_type": "markdown",
   "metadata": {},
   "source": [
    "## 2. Analysis"
   ]
  },
  {
   "cell_type": "markdown",
   "metadata": {},
   "source": [
    "In order to analyse the correlation of the years between themselves, we will need to transform each year matrix into a list. Since the matrix is symmetrical, we will only need the upper triangle. For programming reasons, we have designed our own upper triangulization matrix. "
   ]
  },
  {
   "cell_type": "code",
   "execution_count": 34,
   "metadata": {
    "collapsed": true
   },
   "outputs": [],
   "source": [
    "def get_list_from(matrix):\n",
    "    only_valuable = []\n",
    "    extension = 1\n",
    "    for row_number in range(matrix.shape[0]):\n",
    "        only_valuable.append(matrix[row_number, extension:matrix.shape[0]].tolist()) # numpy functions keep 0s so I hard coded it. \n",
    "        extension += 1 \n",
    "    return [element for column in only_valuable for element in column ]"
   ]
  },
  {
   "cell_type": "markdown",
   "metadata": {},
   "source": [
    "### 2.1. Year Profiles"
   ]
  },
  {
   "cell_type": "markdown",
   "metadata": {},
   "source": [
    "Let's visualize the correlation between two years and their capability arrays. "
   ]
  },
  {
   "cell_type": "code",
   "execution_count": 35,
   "metadata": {},
   "outputs": [
    {
     "data": {
      "image/png": "[encoded data removed]",
      "text/plain": [
       "<matplotlib.figure.Figure at 0x1100c4790>"
      ]
     },
     "metadata": {},
     "output_type": "display_data"
    },
    {
     "name": "stdout",
     "output_type": "stream",
     "text": [
      "The pearson correlation index between the two years is: 0.902580296089 (P-value of 0.0)\n"
     ]
    }
   ],
   "source": [
    "# apply functions to both countries\n",
    "a_list = get_list_from(get_year_matrix(2012, normalization=True))\n",
    "b_list = get_list_from(get_year_matrix(2013, normalization=True))\n",
    "\n",
    "# create a matrix where each row is a list of a country\n",
    "corelation = np.vstack((a_list, b_list))\n",
    "\n",
    "# plot the matrix \n",
    "plt.subplots(1,1,figsize=(20, 5))\n",
    "plt.subplot(111)\n",
    "sns.heatmap(corelation, cmap='flag_r', cbar=None, square=False, yticklabels=['2012', '2013'], xticklabels=False)\n",
    "plt.yticks(rotation=0)\n",
    "plt.title('Year Capability List Visualization', size=15)\n",
    "plt.show()\n",
    "\n",
    "print 'The pearson correlation index between the two years is: {} (P-value of {})'.format(stats.pearsonr(a_list, b_list)[0], stats.pearsonr(a_list, b_list)[1])"
   ]
  },
  {
   "cell_type": "markdown",
   "metadata": {},
   "source": [
    "It is already apparent that these two consecutive years are highly correlated."
   ]
  },
  {
   "cell_type": "markdown",
   "metadata": {},
   "source": [
    "### 2.2. Correlation Matrix"
   ]
  },
  {
   "cell_type": "markdown",
   "metadata": {},
   "source": [
    "#### 2.2.1. Considerations"
   ]
  },
  {
   "cell_type": "markdown",
   "metadata": {},
   "source": [
    "As previously done with countries, a year correlation matrix will be built. \n",
    "\n",
    "We first define the scope of the matrix."
   ]
  },
  {
   "cell_type": "code",
   "execution_count": 36,
   "metadata": {},
   "outputs": [
    {
     "name": "stdout",
     "output_type": "stream",
     "text": [
      "[1938, 1975, 1980, 1981, 1983, 1985, 1986, 1988, 1989, 1990, 1992, 1993, 1994, 1995, 1996, 1997, 1998, 1999, 2000, 2001, 2002, 2003, 2004, 2005, 2006, 2007, 2008, 2009, 2010, 2011, 2012, 2013, 2014, 2015, 2016, 2017, 2018, 2019]\n"
     ]
    }
   ],
   "source": [
    "number_of_years = len(years_available)\n",
    "years_in_matrix = years_available\n",
    "years_correlation = np.zeros([number_of_years, number_of_years])\n",
    "print years_in_matrix"
   ]
  },
  {
   "cell_type": "markdown",
   "metadata": {},
   "source": [
    "And we build the matrix"
   ]
  },
  {
   "cell_type": "code",
   "execution_count": 37,
   "metadata": {},
   "outputs": [
    {
     "name": "stdout",
     "output_type": "stream",
     "text": [
      "Processing year 38 / 38 (2019)\r"
     ]
    }
   ],
   "source": [
    "data = np.load('Data/year_capability_dict.npy').item()\n",
    "for row in range(number_of_years):\n",
    "    print 'Processing year {} / {} ({})\\r'.format(row + 1, number_of_years, years_in_matrix[row]),\n",
    "    year_1_list = data[years_in_matrix[row]]\n",
    "    for column in range(number_of_years):\n",
    "        \n",
    "        year_2_list = data[years_in_matrix[column]]\n",
    "\n",
    "        years_correlation[row, column] = stats.pearsonr(year_1_list, year_2_list)[0]\n",
    "        "
   ]
  },
  {
   "cell_type": "code",
   "execution_count": 38,
   "metadata": {},
   "outputs": [
    {
     "data": {
      "image/png": "[encoded data removed]",
      "text/plain": [
       "<matplotlib.figure.Figure at 0x10fe1d810>"
      ]
     },
     "metadata": {},
     "output_type": "display_data"
    }
   ],
   "source": [
    "plt.subplots(1,1,figsize=(9, 9))\n",
    "plt.subplot(111)\n",
    "sns.heatmap(years_correlation, cbar=False, square=True, yticklabels=years_in_matrix, xticklabels=years_in_matrix)\n",
    "plt.title('Years Correlation Matrix: Unordered', size=13)\n",
    "plt.show()"
   ]
  },
  {
   "cell_type": "markdown",
   "metadata": {},
   "source": [
    "There seems to be a lot of data missing. \n",
    "\n",
    "Let's plot the amount of records in our databse over time to get a better sense on how to approach the problem."
   ]
  },
  {
   "cell_type": "code",
   "execution_count": 39,
   "metadata": {},
   "outputs": [
    {
     "data": {
      "image/png": "[encoded data removed]",
      "text/plain": [
       "<matplotlib.figure.Figure at 0x1100722d0>"
      ]
     },
     "metadata": {},
     "output_type": "display_data"
    }
   ],
   "source": [
    "# get all of the data\n",
    "data = DataFrame(connection_to_graph.data(years_available_q)).as_matrix()\n",
    "raw = [int(a) for a in data[:-1, 0]]\n",
    "timeline = range(min(raw), max(raw))\n",
    "qtties = []\n",
    "\n",
    "# build a timeline and number of records. \n",
    "for year in timeline:\n",
    "    if year not in raw:\n",
    "        qtties.append(0)\n",
    "    else: \n",
    "        idx = find_index(str(year), list(data[:, 0]))\n",
    "        qtties.append(data[idx, 1])\n",
    "\n",
    "# plot the graph\n",
    "plt.subplots(1,1,figsize=(16, 5))\n",
    "plt.subplot(111)\n",
    "plt.title(\"Number of assets over time\")\n",
    "plt.xlabel(\"Year\")\n",
    "plt.ylabel(\"Number of Available assets\")\n",
    "plt.plot(timeline, qtties)\n",
    "plt.show()"
   ]
  },
  {
   "cell_type": "markdown",
   "metadata": {},
   "source": [
    "#### 2.2.2. Final co-ocurrence matrix"
   ]
  },
  {
   "cell_type": "markdown",
   "metadata": {},
   "source": [
    "To counteract the fact that our dataset is not uniformily distributed across the years, we will only consider the last 15 years. [2004-2018]"
   ]
  },
  {
   "cell_type": "code",
   "execution_count": 40,
   "metadata": {},
   "outputs": [],
   "source": [
    "number_of_years = 15\n",
    "years_in_matrix = years_available[:-1][-number_of_years:]\n",
    "years_correlation = np.zeros([number_of_years, number_of_years])"
   ]
  },
  {
   "cell_type": "markdown",
   "metadata": {},
   "source": [
    "We now rebuild and plot the heatmaop of correlations. "
   ]
  },
  {
   "cell_type": "code",
   "execution_count": 41,
   "metadata": {},
   "outputs": [
    {
     "name": "stdout",
     "output_type": "stream",
     "text": [
      "Processing year 15 / 15 (2018)\r"
     ]
    },
    {
     "data": {
      "image/png": "[encoded data removed]",
      "text/plain": [
       "<matplotlib.figure.Figure at 0x10ff575d0>"
      ]
     },
     "metadata": {},
     "output_type": "display_data"
    }
   ],
   "source": [
    "data = np.load('Data/year_capability_dict.npy').item()\n",
    "for row in range(number_of_years):\n",
    "    print 'Processing year {} / {} ({})\\r'.format(row + 1, number_of_years, years_in_matrix[row]),\n",
    "    year_1_list = data[years_in_matrix[row]]\n",
    "    for column in range(number_of_years):        \n",
    "        year_2_list = data[years_in_matrix[column]]\n",
    "        years_correlation[row, column] = stats.pearsonr(year_1_list, year_2_list)[0]\n",
    "\n",
    "plt.subplots(1,1,figsize=(8, 8))\n",
    "plt.subplot(111)\n",
    "sns.heatmap(years_correlation, cbar=False, square=True, yticklabels=years_in_matrix, xticklabels=years_in_matrix)\n",
    "plt.title('Years Correlation Matrix: Unordered, last 15 years', size=13)\n",
    "plt.show()"
   ]
  },
  {
   "cell_type": "markdown",
   "metadata": {},
   "source": [
    "#### 2.2.3. Heatmap Clustering"
   ]
  },
  {
   "cell_type": "markdown",
   "metadata": {},
   "source": [
    "Let us reorder the heatmap according to hierarchical clustering. "
   ]
  },
  {
   "cell_type": "code",
   "execution_count": 42,
   "metadata": {},
   "outputs": [
    {
     "data": {
      "image/png": "[encoded data removed]",
      "text/plain": [
       "<matplotlib.figure.Figure at 0x110080fd0>"
      ]
     },
     "metadata": {},
     "output_type": "display_data"
    }
   ],
   "source": [
    "# plot the clustermap\n",
    "a = sns.clustermap(years_correlation,  figsize=(8, 8), xticklabels = years_in_matrix, yticklabels=years_in_matrix)\n",
    "plt.show()"
   ]
  },
  {
   "cell_type": "markdown",
   "metadata": {},
   "source": [
    "### 2.3. Correlation Over Time"
   ]
  },
  {
   "cell_type": "markdown",
   "metadata": {},
   "source": [
    "Let us see how related is each year in our matrx with the one before it. In this way we might more easily detect discripancies. "
   ]
  },
  {
   "cell_type": "code",
   "execution_count": 43,
   "metadata": {},
   "outputs": [
    {
     "data": {
      "image/png": "[encoded data removed]",
      "text/plain": [
       "<matplotlib.figure.Figure at 0x11454fd90>"
      ]
     },
     "metadata": {},
     "output_type": "display_data"
    }
   ],
   "source": [
    "# remove first year\n",
    "advanced_timeline = years_in_matrix[1::]\n",
    "corr_with_pre = []\n",
    "\n",
    "row = 1\n",
    "col = 0\n",
    "for year in advanced_timeline:\n",
    "    corr_with_pre.append(years_correlation[row, col])\n",
    "    row = row + 1\n",
    "    col = col + 1\n",
    "\n",
    "plt.subplots(1,1,figsize=(15,7))\n",
    "sns.barplot(np.arange(len(corr_with_pre)), corr_with_pre )\n",
    "plt.xticks(np.arange(len(corr_with_pre)), advanced_timeline, rotation=90, fontsize=11)\n",
    "plt.title('Correlation of year with previous year')\n",
    "plt.ylabel('Pearson Correlation Index')\n",
    "plt.show()"
   ]
  },
  {
   "cell_type": "markdown",
   "metadata": {},
   "source": [
    "Some years, such as 2006 or 2007 appear to have very low correlations with the years after. There seems to be an overall tendency of augmenting correlation with the years. "
   ]
  }
 ],
 "metadata": {
  "kernelspec": {
   "display_name": "Python 2",
   "language": "python",
   "name": "python2"
  },
  "language_info": {
   "codemirror_mode": {
    "name": "ipython",
    "version": 2
   },
   "file_extension": ".py",
   "mimetype": "text/x-python",
   "name": "python",
   "nbconvert_exporter": "python",
   "pygments_lexer": "ipython2",
   "version": "2.7.13"
  }
 },
 "nbformat": 4,
 "nbformat_minor": 2
}
