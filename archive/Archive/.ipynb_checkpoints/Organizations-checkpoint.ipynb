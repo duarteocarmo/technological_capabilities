{
 "cells": [
  {
   "cell_type": "code",
   "execution_count": 1,
   "metadata": {},
   "outputs": [
    {
     "name": "stdout",
     "output_type": "stream",
     "text": [
      "The org list has 14806 organizations.\n"
     ]
    }
   ],
   "source": [
    "from py2neo import Graph\n",
    "import numpy as np \n",
    "from pandas import DataFrame\n",
    "import itertools\n",
    "import matplotlib.pyplot as plt\n",
    "import seaborn as sns\n",
    "import json\n",
    "import math\n",
    "import pandas as pd\n",
    "import plotly \n",
    "import plotly.graph_objs as go\n",
    "import qgrid\n",
    "from scipy import stats\n",
    "from sklearn.cluster.bicluster import SpectralBiclustering\n",
    "\n",
    "local_connection_url = \"http://localhost:7474/db/data\"\n",
    "connection_to_graph = Graph(local_connection_url)\n",
    "\n",
    "# please add your plotly api credentials to plotly_config in your own machine. Visit https://plot.ly/python/getting-started/\n",
    "plotly_config = json.load(open('plotly_config.json'))\n",
    "plotly.tools.set_credentials_file(username=plotly_config['username'], api_key=plotly_config['key'])\n",
    "\n",
    "\n",
    "org_query = \"\"\" MATCH (n:Owner) \n",
    "                    WITH n.name AS Organization \n",
    "                    RETURN Organization;\n",
    "                    \"\"\"\n",
    "\n",
    "org_names = list(set(DataFrame(connection_to_graph.data(org_query)).as_matrix()[:, 0]))\n",
    "org_names.sort()\n",
    "\n",
    "print 'The org list has {} organizations.'.format(len(org_names))"
   ]
  },
  {
   "cell_type": "code",
   "execution_count": 8,
   "metadata": {
    "scrolled": false
   },
   "outputs": [
    {
     "name": "stdout",
     "output_type": "stream",
     "text": [
      "Processing org 14806 / 14806. And we have 188 good. \r"
     ]
    }
   ],
   "source": [
    "good_ones = []\n",
    "count = 0\n",
    "record_threshold = 20\n",
    "\n",
    "for organization in org_names:\n",
    "    \n",
    "    print 'Processing org {} / {}. And we have {} good. \\r'.format(count + 1, len(org_names), len(good_ones)),\n",
    "    \n",
    "    # get data\n",
    "    country_no_interestions = \"\"\"   MATCH (a:Asset)-[:CONTAINS]->(fs:Feedstock)\n",
    "                                    MATCH (a:Asset)-[:CONTAINS]->(out:Output)\n",
    "                                    MATCH (a:Asset)-[:CONTAINS]->(pt:ProcessingTech)\n",
    "                                    WHERE a.owner = \"{}\"\n",
    "                                    RETURN fs.term, pt.term, out.term, count(a)\n",
    "                                    \"\"\".format(organization.encode('utf-8'))\n",
    "    data = DataFrame(connection_to_graph.data(country_no_interestions)).as_matrix()\n",
    "    \n",
    "    \n",
    "    if data.size != 0:\n",
    "        number_of_records = np.sum(data[:, 0])\n",
    "        \n",
    "        if number_of_records >= record_threshold:\n",
    "            good_ones.append(organization)\n",
    "\n",
    "    count += 1\n",
    "    \n",
    "np.save(file='Data/Good_organizations.npy', arr=np.asarray(good_ones))    "
   ]
  },
  {
   "cell_type": "code",
   "execution_count": null,
   "metadata": {
    "collapsed": true
   },
   "outputs": [],
   "source": [
    "process_variables = ['Feedstock', 'Output', 'ProcessingTech']\n",
    "\n",
    "country_intersections = \"\"\"     MATCH (a:Asset)-[:CONTAINS]->(fs:{})\n",
    "                                MATCH (a:Asset)-[:CONTAINS]->(t:{})\n",
    "                                WHERE fs<>t AND a.country = \"{}\"\n",
    "                                RETURN fs.term, t.term, count(a)\n",
    "                                \"\"\""
   ]
  },
  {
   "cell_type": "code",
   "execution_count": null,
   "metadata": {},
   "outputs": [],
   "source": []
  },
  {
   "cell_type": "code",
   "execution_count": 9,
   "metadata": {},
   "outputs": [
    {
     "name": "stdout",
     "output_type": "stream",
     "text": [
      "[u'AALBORG UNIV' u'ABELLON CLEANENERGY LTD'\n",
      " u'ABENGOA BIOENERGIA NUEVAS TECNOLOGIAS SA' u'ABENGOA BIOENERGY'\n",
      " u'ABENGOA BIOENERGY BIOMASS OF KANSAS LLC'\n",
      " u'ABENGOA BIOENERGY NEW TECHNOLOGIES INC' u'AGR & AGRI FOOD CANADA'\n",
      " u'AGRIVIDA INC'\n",
      " u'AMITY INSTITUTE OF BIOTECHNOLOGY, AMITY UNIVERSITY UTTAR PRADESH, SECTOR 125'\n",
      " u'ANNA UNIV' u'ARCHER-DANIELS MIDLAND CO' u'ARGONNE NATL LAB'\n",
      " u'ARISTOTLE UNIV THESSALONIKI' u'ARS' u'ASTON UNIV'\n",
      " u'BEIJING FORESTRY UNIV' u'BEIJING UNIV CHEM TECHNOL'\n",
      " u'BRIGHAM YOUNG UNIV' u'CAPITAL NORMAL UNIV' u'CATCHLIGHT ENERGY LLC'\n",
      " u'CHINA AGR UNIV' u'CHINA UNIV PETR' u'CHINESE ACAD SCI'\n",
      " u'CHONBUK NATL UNIV' u'CHONNAM NATL UNIV' u'CHUNGBUK NATL UNIV'\n",
      " u'CITY UNIV HONG KONG' u'CONSEJO NACL INVEST CIENT & TECN' u'COSKATA'\n",
      " u'CSIC' u'CSIR' u'CTR BIOTECHNOL SFAX' u'DCA CONSULTANTS LTD'\n",
      " u'DEPARTMENT OF BIOPROCESS TECHNOLOGY, FACULTY OF BIOTECHNOLOGY AND BIOMOLECULAR SCIENCES, UNIVERSITI PUTRA MALAYSIA (UPM)'\n",
      " u'DEUTSCH BIOMASSEFORSCHUNGSZENTRUM GEMEINNUTZIGE G' u'DSM IP ASSETS BV'\n",
      " u'DUPONT' u'E CHINA UNIV SCI & TECHNOL' u'ECOLE POLYTECH FED LAUSANNE'\n",
      " u'ECOPRENE LLC' u'ENEA' u'ENERKEM' u'ESTONIAN UNIV LIFE SCI'\n",
      " u'ETH ZUERICH' u'ETHNIKO KENTRO EREVNAS KAI TECHNOLOGIKIS ANAPTYXIS'\n",
      " u'FELDMANN M' u'FIBERIGHT LLC' u'FORSCHUNGSZENTRUM KARLSRUHE'\n",
      " u'FPINNOVATIONS' u'FUDAN UNIV' u'GENIFUEL CORP' u'GEORGIA INST TECHNOL'\n",
      " u'GLYCEROSOLUTION QUIMICA LTDA' u'GOTEBORG ENERGI AB'\n",
      " u'GREENFIELD ETHANOL INC' u'GROWMARK INC' u'HARPER ADAMS UNIV COLL'\n",
      " u'HEFEI UNIV TECHNOL' u'HENAN UNIV TECHNOL' u'HIGHMARK RENEWABLES RES LP'\n",
      " u'HUAZHONG AGR UNIV' u'IFP ENERGIES NOUVELLES' u'IND TECHNOL INST'\n",
      " u'INDIAN INST CHEM TECHNOL' u'INDIAN INST TECHNOL'\n",
      " u'INDIAN INST TECHNOL HYDERABAD' u'INDIAN OIL CORP LTD'\n",
      " u'INST CHEM TECHNOL' u'INST PLASMA PHYS AS CR'\n",
      " u'INST TECNOL & ESTUDIOS SUPER MONTERREY' u'INST WOOD SCI & TECHNOL'\n",
      " u'INT ISLAMIC UNIV MALAYSIA' u'IOGEN CORPORATION' u'IOWA STATE UNIV'\n",
      " u'ISTANBUL TECH UNIV' u'JADAVPUR UNIV' u'JIANGNAN UNIV' u'JINAN UNIV'\n",
      " u'KOREA ADV INST SCI & TECHNOL' u'KOREA RES INST BIOSCI & BIOTECHNOL'\n",
      " u'LIVEFUELS INC' u'LODZ UNIV TECHNOL' u'LOUISIANA STATE UNIV'\n",
      " u'LULEA UNIV TECHNOL' u'LUND UNIV' u'MEM UNIV NEWFOUNDLAND'\n",
      " u'MICHIGAN STATE UNIV' u'MINIST AGR' u'MISSISSIPPI STATE UNIV'\n",
      " u'MONSANTO TECHNOLOGY LLC' u'N CAROLINA STATE UNIV'\n",
      " u'NANJING FORESTRY UNIV' u'NATION TAIWAN UNIV'\n",
      " u'NATIONAL TECHNICAL UNIVERSITY OF ATHENS - NTUA'\n",
      " u'NATL CHUNG HSING UNIV' u'NATL INST TECHNOL'\n",
      " u'NATL RENEWABLE ENERGY LAB' u'NATL TAIWAN UNIV SCI & TECHNOL'\n",
      " u'NATL UNIV SINGAPORE' u'NEWCASTLE UNIV' u'Null' u'OHIO STATE UNIV'\n",
      " u'OYLER J R' u'PACIFIC NW NATL LAB' u'PETROBRAS' u'PHILLIPS J C'\n",
      " u'PRINCE SONGKLA UNIV' u'REDLAND IND INC' u'RENMATIX' u'RISO DTU'\n",
      " u'RMIT UNIV' u'SARDAR PATEL RENEWABLE ENERGY RES INST' u'SASTRA UNIV'\n",
      " u'SEIDEL RES&DEV CO LLC' u'SHAHJALAL UNIV SCI & TECHNOL'\n",
      " u'SHANDONG UNIV TECHNOL' u'SHANGHAI UNIV INT BUSINESS & ECON'\n",
      " u'SHELL GLOBAL SOLUT' u'SIRNAK UNIV' u'SKANDINAVISK KEMIINFORMATION AB'\n",
      " u'SOUTH DAKOTA SCH MINES & TECHNOL' u'SOUTHEAST UNIV' u'SP/EPAP'\n",
      " u'ST JOSEPHS COLL ENGN' u'SUNY COLL ENVIRONM SCI & FORESTRY' u'SUPRIYONO'\n",
      " u'TAO T' u'TECH UNIV DARMSTADT' u'TECH UNIV DENMARK' u'TEXAS A&M UNIV'\n",
      " u'TIANJIN UNIV' u'TOMAS BATA UNIV ZLIN' u'TONGJI UNIV' u'TSINGHUA UNIV'\n",
      " u'UNIV ALBERTA' u'UNIV ALMERIA' u'UNIV ATHENS' u'UNIV AVEIRO'\n",
      " u'UNIV BOLOGNA' u'UNIV BORAS' u'UNIV BRITISH COLUMBIA' u'UNIV CALGARY'\n",
      " u'UNIV CALIF DAVIS' u'UNIV CASTILLA LA MANCHA'\n",
      " u'UNIV CENT FLORIDA RES FOUND INC' u'UNIV COPENHAGEN' u'UNIV DELHI'\n",
      " u'UNIV ESTADUAL CAMPINAS' u'UNIV FED LAVRAS' u'UNIV FED OURO PRETO'\n",
      " u'UNIV GEORGIA' u'UNIV GHENT' u'UNIV HAWAII MANOA' u'UNIV LEEDS'\n",
      " u'UNIV MINHO' u'UNIV MINNESOTA' u'UNIV NAPLES FEDERICO II' u'UNIV PATRAS'\n",
      " u'UNIV POLITEHN BUCURESTI' u'UNIV PUTRA MALAYSIA' u'UNIV QINGHUA'\n",
      " u'UNIV SAINS MALAYSIA' u'UNIV SAO PAULO' u'UNIV SAO PAULO USP'\n",
      " u'UNIV SCI & TECHNOL CHINA' u'UNIV SEOUL' u'UNIV SOUTHAMPTON'\n",
      " u'UNIV STELLENBOSCH' u'UNIV SYRACUSE' u'UNIV TIRADENTES' u'UNIV TULSA'\n",
      " u'UNIV UTRECHT' u'UNIV VALLADOLID' u'UNIV VICTORIA' u'UNIV VIGO'\n",
      " u'UNIV WAGENINGEN & RES CTR' u'UNIV WASHINGTON' u'UNIV WESTERN ONTARIO'\n",
      " u'UNIV WISCONSIN' u'USDA ARS' u'UTAH STATE UNIV'\n",
      " u'VALTION TEKNILLINEN TUTKIMUSKESKUS'\n",
      " u'VIRGINIA POLYTECH INST & STATE UNIV'\n",
      " u'WAGENINGEN UNIVERSITY & RESEARCH CENTRE - AFSG'\n",
      " u'WASHINGTON STATE UNIV' u'WISCONSIN ALUMNI RES FOUND'\n",
      " u'WORCESTER POLYTECH INST' u'ZHEJIANG UNIV']\n"
     ]
    }
   ],
   "source": [
    "a = np.load(file='Data/Good_organizations.npy')\n",
    "print a"
   ]
  },
  {
   "cell_type": "code",
   "execution_count": null,
   "metadata": {
    "collapsed": true
   },
   "outputs": [],
   "source": []
  }
 ],
 "metadata": {
  "kernelspec": {
   "display_name": "Python 2",
   "language": "python",
   "name": "python2"
  },
  "language_info": {
   "codemirror_mode": {
    "name": "ipython",
    "version": 2
   },
   "file_extension": ".py",
   "mimetype": "text/x-python",
   "name": "python",
   "nbconvert_exporter": "python",
   "pygments_lexer": "ipython2",
   "version": "2.7.13"
  }
 },
 "nbformat": 4,
 "nbformat_minor": 2
}
