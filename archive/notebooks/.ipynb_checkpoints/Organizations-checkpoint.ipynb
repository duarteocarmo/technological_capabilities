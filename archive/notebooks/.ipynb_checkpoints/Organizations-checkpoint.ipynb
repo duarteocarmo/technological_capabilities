{
 "cells": [
  {
   "cell_type": "code",
   "execution_count": 1,
   "metadata": {},
   "outputs": [
    {
     "name": "stdout",
     "output_type": "stream",
     "text": [
      "The org list has 14806 organizations.\n"
     ]
    }
   ],
   "source": [
    "from py2neo import Graph\n",
    "import numpy as np \n",
    "from pandas import DataFrame\n",
    "import itertools\n",
    "import matplotlib.pyplot as plt\n",
    "import seaborn as sns\n",
    "import json\n",
    "import math\n",
    "import pandas as pd\n",
    "import plotly \n",
    "import plotly.graph_objs as go\n",
    "import qgrid\n",
    "from scipy import stats\n",
    "from sklearn.cluster.bicluster import SpectralBiclustering\n",
    "\n",
    "local_connection_url = \"http://localhost:7474/db/data\"\n",
    "connection_to_graph = Graph(local_connection_url)\n",
    "\n",
    "# please add your plotly api credentials to plotly_config in your own machine. Visit https://plot.ly/python/getting-started/\n",
    "plotly_config = json.load(open('plotly_config.json'))\n",
    "plotly.tools.set_credentials_file(username=plotly_config['username'], api_key=plotly_config['key'])\n",
    "\n",
    "\n",
    "org_query = \"\"\" MATCH (n:Owner) \n",
    "                    WITH n.name AS Organization \n",
    "                    RETURN Organization;\n",
    "                    \"\"\"\n",
    "\n",
    "org_names = list(set(DataFrame(connection_to_graph.data(org_query)).as_matrix()[:, 0]))\n",
    "org_names.sort()\n",
    "\n",
    "print 'The org list has {} organizations.'.format(len(org_names))"
   ]
  },
  {
   "cell_type": "code",
   "execution_count": 20,
   "metadata": {},
   "outputs": [
    {
     "name": "stdout",
     "output_type": "stream",
     "text": [
      "Processing org 14806 / 14806. And we have 1486 good. \r"
     ]
    }
   ],
   "source": [
    "good_ones = []\n",
    "count = 0\n",
    "for organization in org_names:\n",
    "    print 'Processing org {} / {}. And we have {} good. \\r'.format(count + 1, len(org_names), len(good_ones)),\n",
    "    \n",
    "    country_no_interestions = \"\"\"   MATCH (a:Asset)-[:CONTAINS]->(fs:Feedstock)\n",
    "                                    MATCH (a:Asset)-[:CONTAINS]->(out:Output)\n",
    "                                    MATCH (a:Asset)-[:CONTAINS]->(pt:ProcessingTech)\n",
    "                                    WHERE a.owner = \"{}\"\n",
    "                                    RETURN fs.term, pt.term, out.term, count(a)\n",
    "                                    \"\"\".format(organization.encode('utf-8'))\n",
    "    data = DataFrame(connection_to_graph.data(country_no_interestions)).as_matrix()\n",
    "    if data.size != 0:\n",
    "        good_ones.append(organization)\n",
    "    count +=1\n",
    "    \n"
   ]
  },
  {
   "cell_type": "code",
   "execution_count": null,
   "metadata": {
    "collapsed": true
   },
   "outputs": [],
   "source": [
    "process_variables = ['Feedstock', 'Output', 'ProcessingTech']\n",
    "\n",
    "country_intersections = \"\"\"     MATCH (a:Asset)-[:CONTAINS]->(fs:{})\n",
    "                                MATCH (a:Asset)-[:CONTAINS]->(t:{})\n",
    "                                WHERE fs<>t AND a.country = \"{}\"\n",
    "                                RETURN fs.term, t.term, count(a)\n",
    "                                \"\"\""
   ]
  },
  {
   "cell_type": "code",
   "execution_count": 13,
   "metadata": {},
   "outputs": [
    {
     "name": "stdout",
     "output_type": "stream",
     "text": [
      "asidfj asdiae jqefaefeiafhj eafeafae feafaeifj aefaef9ae9 feaf\n"
     ]
    }
   ],
   "source": [
    "dfcnda = \"\"\"asidfj asdiae jqef\n",
    "aefeiafhj eafea\n",
    "fae feafaeifj aef\n",
    "aef9ae9 feaf\"\"\"\n",
    "\n",
    "dfcnda = dfcnda.\n",
    "\n",
    "print dfcnda"
   ]
  },
  {
   "cell_type": "code",
   "execution_count": null,
   "metadata": {
    "collapsed": true
   },
   "outputs": [],
   "source": []
  }
 ],
 "metadata": {
  "kernelspec": {
   "display_name": "Python 2",
   "language": "python",
   "name": "python2"
  },
  "language_info": {
   "codemirror_mode": {
    "name": "ipython",
    "version": 2
   },
   "file_extension": ".py",
   "mimetype": "text/x-python",
   "name": "python",
   "nbconvert_exporter": "python",
   "pygments_lexer": "ipython2",
   "version": "2.7.13"
  }
 },
 "nbformat": 4,
 "nbformat_minor": 2
}
