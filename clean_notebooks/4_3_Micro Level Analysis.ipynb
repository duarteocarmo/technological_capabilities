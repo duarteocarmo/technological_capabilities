{
 "cells": [
  {
   "cell_type": "markdown",
   "metadata": {},
   "source": [
    "# Micro Level Analysis: Focusing on Organizations\n",
    "\n",
    "In this part of the analysis, we will focus on organizations as the unit of technological capability. \n",
    "\n",
    "Let us import all relevant libraries"
   ]
  },
  {
   "cell_type": "code",
   "execution_count": 1,
   "metadata": {},
   "outputs": [],
   "source": [
    "from py2neo import Graph\n",
    "import numpy as np \n",
    "from pandas import DataFrame\n",
    "import itertools\n",
    "import matplotlib.pyplot as plt\n",
    "import seaborn as sns\n",
    "import json\n",
    "import math\n",
    "import pandas as pd\n",
    "import plotly \n",
    "import plotly.graph_objs as go\n",
    "import qgrid\n",
    "from scipy import stats, spatial\n",
    "from sklearn.cluster.bicluster import SpectralBiclustering\n",
    "import operator\n",
    "from IPython.display import display, HTML\n",
    "from matplotlib.colors import ListedColormap\n",
    "\n",
    "# please add your plotly api credentials to plotly_config in your own machine. Visit https://plot.ly/python/getting-started/\n",
    "plotly_config = json.load(open('plotly_config.json'))\n",
    "plotly.tools.set_credentials_file(username=plotly_config['username'], api_key=plotly_config['key'])\n",
    "\n",
    "local_connection_url = \"http://localhost:7474/db/data\"\n",
    "connection_to_graph = Graph(local_connection_url)"
   ]
  },
  {
   "cell_type": "markdown",
   "metadata": {},
   "source": [
    "### Table of Contents:     \n",
    "- [1.Characterizing organizations](#one)\n",
    "    - [1.1.Preparations](#one-one)\n",
    "    - [1.2.Capability Matrix of the Technical University of Dennmark](#one-two)\n",
    "- [2.Organization correlation matrix and organization profiles](#two)\n",
    "    - [2.1.Correlation Matrices](#two-one)\n",
    "    - [2.2.Organization profiles](#two-two)\n",
    "- [3.Comparing organizations](#three)\n",
    "    - [3.1.Visual Representation](#three-one)\n",
    "    - [3.2.Most frequent term pairs](#three-two)\n",
    "    - [3.3.Top differences](#three-three)\n",
    "- [4.Collaborations](#four)\n",
    "    - [4.1.All organizations](#four-one)\n",
    "    - [4.2.Universities](#four-two)\n",
    "    - [4.3.Non-Universities](#four-three)\n",
    "- [5.Organizational spectrums](#five)\n",
    "    - [5.1.Zoom in version](#five-one)\n",
    "    - [5.2.Limited Organizations](#five-two)\n",
    "    - [5.3.Full representation](#five-three)\n",
    "    - [5.4.DTU neighbours](#five-four)"
   ]
  },
  {
   "cell_type": "markdown",
   "metadata": {},
   "source": [
    "## 1.Characterizing organizations <a class=\"anchor\" id=\"one\"></a>\n",
    "### 1.1.Preparations <a class=\"anchor\" id=\"one-one\"></a>"
   ]
  },
  {
   "cell_type": "markdown",
   "metadata": {},
   "source": [
    "Let us create a list of the danish organization that we want to focus on: "
   ]
  },
  {
   "cell_type": "code",
   "execution_count": 2,
   "metadata": {},
   "outputs": [],
   "source": [
    "dk_organizations = [\"TECH UNIV DENMARK\", \n",
    "                   \"NOVOZYMES AS\", \n",
    "                   \"AALBORG UNIV\", \n",
    "                   \"UNIV COPENHAGEN\", \n",
    "                   \"AARHUS UNIV\", \n",
    "                   \"UNIV SO DENMARK\", \n",
    "                   \"RISO DTU\", \n",
    "                   \"DONG ENERGY\"]"
   ]
  },
  {
   "cell_type": "markdown",
   "metadata": {},
   "source": [
    "Then we query all of the organziations in the database. "
   ]
  },
  {
   "cell_type": "code",
   "execution_count": 3,
   "metadata": {},
   "outputs": [
    {
     "name": "stdout",
     "output_type": "stream",
     "text": [
      "We found 10638 organizations\n"
     ]
    }
   ],
   "source": [
    "# query orgs\n",
    "org_available_q = \"\"\"       MATCH (n:Asset)\n",
    "                            WITH n.owner as ORG\n",
    "                            RETURN ORG, count(ORG)\n",
    "                            ORDER BY count(ORG) DESC\"\"\"\n",
    "\n",
    "# create a list with the years where records exist\n",
    "raw_data = DataFrame(connection_to_graph.data(org_available_q)).as_matrix()[:, 0]\n",
    "organizations = list(raw_data)\n",
    "\n",
    "# print an example organization\n",
    "print 'We found {} organizations'.format(len(organizations))"
   ]
  },
  {
   "cell_type": "markdown",
   "metadata": {},
   "source": [
    "Let us get the names of all of the terms in the biofuel dictionnary"
   ]
  },
  {
   "cell_type": "code",
   "execution_count": 4,
   "metadata": {},
   "outputs": [
    {
     "name": "stdout",
     "output_type": "stream",
     "text": [
      "342\n"
     ]
    }
   ],
   "source": [
    "query_no_interestions = \"\"\"     MATCH (a:Asset)-[:CONTAINS]->(fs:Feedstock)\n",
    "                                MATCH (a:Asset)-[:CONTAINS]->(out:Output)\n",
    "                                MATCH (a:Asset)-[:CONTAINS]->(pt:ProcessingTech)\n",
    "                                RETURN fs.term, pt.term, out.term, count(a)\n",
    "                        \"\"\"\n",
    "\n",
    "process_variables = ['Feedstock', 'Output', 'ProcessingTech']\n",
    "query_intersections = \"\"\"       MATCH (a:Asset)-[:CONTAINS]->(fs:{})\n",
    "                                MATCH (a:Asset)-[:CONTAINS]->(t:{})\n",
    "                                WHERE fs<>t\n",
    "                                RETURN fs.term, t.term, count(a)\n",
    "                      \"\"\"\n",
    "\n",
    "# Return query as pandas dataframe \n",
    "data_no_intersections = DataFrame(connection_to_graph.data(query_no_interestions)).as_matrix()\n",
    "\n",
    "# Get axis names from columns and append to list\n",
    "feedstock_names = set(list(data_no_intersections[:, 1]))\n",
    "processing_technology_names = set(list(data_no_intersections[:, 2]))\n",
    "output_names = set(list(data_no_intersections[:, 3]))\n",
    "matrix_axis_names = list(feedstock_names) + list(processing_technology_names) + list(output_names)\n",
    "\n",
    "# Extra labels that only appear in non-intersection queries\n",
    "for category in process_variables:\n",
    "    data_no_intersections = DataFrame(connection_to_graph.data(query_intersections.format(category, category))).as_matrix()\n",
    "    for column_number in range(1,3):\n",
    "        column = data_no_intersections[:, column_number]\n",
    "        for name in column:\n",
    "            if name not in matrix_axis_names:\n",
    "                matrix_axis_names.append(name)\n",
    "print len(matrix_axis_names)"
   ]
  },
  {
   "cell_type": "code",
   "execution_count": 5,
   "metadata": {},
   "outputs": [],
   "source": [
    "def find_index(something, in_list):\n",
    "    return in_list.index(something)"
   ]
  },
  {
   "cell_type": "markdown",
   "metadata": {},
   "source": [
    "We create a function that given an organization, returns its capability matrix"
   ]
  },
  {
   "cell_type": "code",
   "execution_count": 6,
   "metadata": {},
   "outputs": [],
   "source": [
    "def get_org_matrix(org, normalization=True):\n",
    "    \n",
    "    # define queries\n",
    "    org_no_interestions = \"\"\"   MATCH (a:Asset)-[:CONTAINS]->(fs:Feedstock)\n",
    "                                    MATCH (a:Asset)-[:CONTAINS]->(out:Output)\n",
    "                                    MATCH (a:Asset)-[:CONTAINS]->(pt:ProcessingTech)\n",
    "                                    WHERE a.owner CONTAINS \"{}\"\n",
    "                                    RETURN fs.term, pt.term, out.term, count(a)\n",
    "                                    \"\"\".format(org)\n",
    "    \n",
    "    process_variables = ['Feedstock', 'Output', 'ProcessingTech']\n",
    "    \n",
    "    org_intersections = \"\"\"     MATCH (a:Asset)-[:CONTAINS]->(fs:{})\n",
    "                                    MATCH (a:Asset)-[:CONTAINS]->(t:{})\n",
    "                                    WHERE fs<>t AND a.owner CONTAINS \"{}\"\n",
    "                                    RETURN fs.term, t.term, count(a)\n",
    "                                    \"\"\"\n",
    "    # get data\n",
    "    data_no_intersections = DataFrame(connection_to_graph.data(org_no_interestions)).as_matrix()\n",
    "    \n",
    "    # create matrix\n",
    "    org_matrix = np.zeros([len(matrix_axis_names), len(matrix_axis_names)])\n",
    "    \n",
    "    # for no intersections data\n",
    "    for row in data_no_intersections:\n",
    "        # the last column is the frequency (count)\n",
    "        frequency = row[0]\n",
    "        indexes = [find_index(element, matrix_axis_names) for element in row[1::]]\n",
    "        # add frequency value to matrix position\n",
    "        for pair in itertools.combinations(indexes, 2):\n",
    "            org_matrix[pair[0], pair[1]] += frequency\n",
    "            org_matrix[pair[1], pair[0]] += frequency\n",
    "    \n",
    "    # for intersecting data\n",
    "    for category in process_variables:\n",
    "        process_data = DataFrame(connection_to_graph.data(org_intersections.format(category, category, org))).as_matrix()\n",
    "        for row in process_data:\n",
    "            frequency = row[0]\n",
    "            indexes = [find_index(element, matrix_axis_names) for element in row[1::]]\n",
    "            # add frequency value to matrix position\n",
    "            for pair in itertools.combinations(indexes, 2):\n",
    "                org_matrix[pair[0], pair[1]] += frequency / 2 # Divided by two because query not optimized\n",
    "                org_matrix[pair[1], pair[0]] += frequency / 2 # Divided by two because query not optimized\n",
    "    \n",
    "    # normalize\n",
    "    normalized_org_matrix = (org_matrix - np.mean(org_matrix)) / np.std(org_matrix)\n",
    "    \n",
    "    # dynamic return \n",
    "    if normalization == True:\n",
    "        return normalized_org_matrix\n",
    "    else: \n",
    "        return org_matrix"
   ]
  },
  {
   "cell_type": "markdown",
   "metadata": {},
   "source": [
    "Some auxiliary functions to study organizations: "
   ]
  },
  {
   "cell_type": "code",
   "execution_count": 7,
   "metadata": {},
   "outputs": [],
   "source": [
    "def check_symmetric(a, tol):\n",
    "    return np.allclose(a, a.T, atol=tol)\n",
    "\n",
    "def basic_stats(a_matrix):\n",
    "    print 'Rows:', a_matrix.shape[0]\n",
    "    print 'Columns:', a_matrix.shape[1]\n",
    "    print 'Mean: ', np.mean(a_matrix)\n",
    "    print 'Standart Deviation', np.std(a_matrix)\n",
    "    print 'Max: ', np.amax(a_matrix)\n",
    "    print 'Min: ', np.amin(a_matrix)\n",
    "    print 'Symmetry: ', check_symmetric(a_matrix, 1e-8)\n",
    "    print ''"
   ]
  },
  {
   "cell_type": "markdown",
   "metadata": {},
   "source": [
    "### 1.2.Capability Matrix of the Technical University of Dennmark <a class=\"anchor\" id=\"one-two\"></a>"
   ]
  },
  {
   "cell_type": "markdown",
   "metadata": {},
   "source": [
    "Let's look at DTU's matrix: "
   ]
  },
  {
   "cell_type": "code",
   "execution_count": 8,
   "metadata": {},
   "outputs": [
    {
     "name": "stdout",
     "output_type": "stream",
     "text": [
      "Rows: 342\n",
      "Columns: 342\n",
      "Mean:  4.3739165020627895e-18\n",
      "Standart Deviation 1.0\n",
      "Max:  103.08417219422863\n",
      "Min:  -0.04924510157222551\n",
      "Symmetry:  True\n",
      "\n"
     ]
    },
    {
     "data": {
      "image/png": "[encoded data removed]",
      "text/plain": [
       "<matplotlib.figure.Figure at 0x11868d7d0>"
      ]
     },
     "metadata": {},
     "output_type": "display_data"
    },
    {
     "name": "stdout",
     "output_type": "stream",
     "text": [
      "The maximum value of the TECH UNIV DENMARK matrix is in position (200, 286) with value 103.084172194 and concerns biogas and  anaerobic digestion.\n"
     ]
    }
   ],
   "source": [
    "univ = 'TECH UNIV DENMARK'\n",
    "univ_matrix = get_org_matrix(univ, normalization=True)\n",
    "basic_stats(univ_matrix)\n",
    "\n",
    "\n",
    "plt.subplots(1,1,figsize=(8, 8))\n",
    "plt.subplot(111)\n",
    "sns.heatmap(univ_matrix, cbar=True, square=True, yticklabels=False, xticklabels=False)\n",
    "plt.show()\n",
    "\n",
    "\n",
    "i,j = np.unravel_index(univ_matrix.argmax(), univ_matrix.shape)\n",
    "print 'The maximum value of the {} matrix is in position {} with value {} and concerns {} and {}.'.format(univ, (i, j), univ_matrix[i,j], matrix_axis_names[i], matrix_axis_names[j])"
   ]
  },
  {
   "cell_type": "markdown",
   "metadata": {},
   "source": [
    "## 2.Organization correlation matrix and organization profiles <a class=\"anchor\" id=\"two\"></a>\n",
    "### 2.1.Correlation Matrices <a class=\"anchor\" id=\"two-one\"></a>"
   ]
  },
  {
   "cell_type": "markdown",
   "metadata": {},
   "source": [
    "A function that returns the capability list from the capability matrix"
   ]
  },
  {
   "cell_type": "code",
   "execution_count": 9,
   "metadata": {},
   "outputs": [],
   "source": [
    "def get_list_from(matrix):\n",
    "    only_valuable = []\n",
    "    extension = 1\n",
    "    for row_number in range(matrix.shape[0]):\n",
    "        only_valuable.append(matrix[row_number, extension:matrix.shape[0]].tolist()) # numpy functions keep 0s so I hard coded it. \n",
    "        extension += 1 \n",
    "    return [element for column in only_valuable for element in column ]"
   ]
  },
  {
   "cell_type": "markdown",
   "metadata": {},
   "source": [
    "We now add the list of DK organizations and the organizations with more than 7 assets:"
   ]
  },
  {
   "cell_type": "code",
   "execution_count": 10,
   "metadata": {},
   "outputs": [
    {
     "name": "stdout",
     "output_type": "stream",
     "text": [
      "The list of organizations now has 115 organizations.\n"
     ]
    }
   ],
   "source": [
    "# query orgs\n",
    "assetLimit = 7\n",
    "org_available_q = \"\"\"     MATCH (n:Asset)\n",
    "                            WITH n.owner as ORG\n",
    "                            RETURN ORG, count(ORG)\n",
    "                            ORDER BY count(ORG) DESC\"\"\"\n",
    "\n",
    "# create a list with the years where records exist from 1 to remove null\n",
    "raw_data = DataFrame(connection_to_graph.data(org_available_q)).as_matrix()[1::] \n",
    "list_of_organizations = []\n",
    "for row in raw_data:\n",
    "    if row[1] >= assetLimit:\n",
    "        list_of_organizations.append(row[0])\n",
    "\n",
    "organizations = list(set(list_of_organizations + dk_organizations))\n",
    "print 'The list of organizations now has {} organizations.'.format(len(organizations))"
   ]
  },
  {
   "cell_type": "markdown",
   "metadata": {},
   "source": [
    "Create a dictionnary of organization capability lists for efficiency. "
   ]
  },
  {
   "cell_type": "code",
   "execution_count": 11,
   "metadata": {},
   "outputs": [
    {
     "name": "stderr",
     "output_type": "stream",
     "text": [
      "/Users/duarteocarmo/anaconda/lib/python2.7/site-packages/ipykernel/__main__.py:46: RuntimeWarning:\n",
      "\n",
      "invalid value encountered in divide\n",
      "\n"
     ]
    }
   ],
   "source": [
    "# create dictionnary\n",
    "org_capability_dict = {}\n",
    "counter = 0\n",
    "\n",
    "# iterate through countries\n",
    "for org in organizations:\n",
    "    \n",
    "    counter += 1\n",
    "    org_matrix = get_org_matrix(org.encode('utf-8').strip(), normalization=True)\n",
    "    \n",
    "    # discart if no information\n",
    "    if np.all(np.isnan(org_matrix)):\n",
    "        continue\n",
    "        \n",
    "    else: \n",
    "        org_capability_dict[org] = get_list_from(org_matrix)\n",
    "        \n",
    "    #print org, sum(get_list_from(org_matrix))"
   ]
  },
  {
   "cell_type": "markdown",
   "metadata": {},
   "source": [
    "A function that calculates the correlation: "
   ]
  },
  {
   "cell_type": "code",
   "execution_count": 12,
   "metadata": {},
   "outputs": [],
   "source": [
    "def calculate_org_correlation(org1_list, org2_list, stat):\n",
    "    avg_dif = np.mean(org1_list - org2_list)\n",
    "    abs_avg_dif = abs(avg_dif)\n",
    "    \n",
    "    if stat.lower() == 'absolute average difference': # return absolute average difference\n",
    "        return abs_avg_dif\n",
    "    if stat == 'Pearson':                             # return Pearson coef\n",
    "        return stats.pearsonr(org1_list, org2_list)[0]\n",
    "    if stat == 'P-value':                             # return P-value\n",
    "        return stats.pearsonr(org1_list, org2_list)[1]"
   ]
  },
  {
   "cell_type": "markdown",
   "metadata": {},
   "source": [
    "Let's print all the organizations: "
   ]
  },
  {
   "cell_type": "code",
   "execution_count": 13,
   "metadata": {},
   "outputs": [
    {
     "name": "stdout",
     "output_type": "stream",
     "text": [
      "There are 112 organizations.\n",
      "List of Organizations:\n",
      "['AALBORG UNIV', 'AARHUS UNIV', u'ABELLON CLEANENERGY LTD', u'ABENGOA BIOENERGIA NUEVAS TECNOLOGIAS SA', u'ABENGOA BIOENERGY CORP.', u'AGENCIA ESTATAL CONSEJO SUPERIOR DEINVESTIGACIONES CIENTIFICAS', u'AMYRIS, INC.', u'ARCHER DANIELS MIDLAND', u'ARCHER-DANIELS MIDLAND CO', u'ARGONNE NATL LAB', u'ARISTOTLE UNIV THESSALONIKI', u'ARS', u'BAYER CROPSCIENCE NV', u'BEIJING FORESTRY UNIV', u'BEIJING UNIV CHEM TECHNOL', u'BETA RENEWABLES', u'BUNGE ACUCAR E BIOENERGIA LTDA', u'CHEVRON USA INC;CHEVRON USA INC', u'CHINA AGR UNIV', u'CHINESE ACAD SCI', u'CHINESE ACAD SCI;CHINESE ACAD SCI', u'CHINESE ACAD SCI;UNIV CHINESE ACAD SCI', u'COPERSUCAR S.A.', u'CORNELL UNIV;CORNELL UNIV', u'CSIR', u'CSIR IICT', 'DONG ENERGY', u'E CHINA UNIV SCI & TECHNOL', u'ECOLE POLYTECH FED LAUSANNE', u'EQUOS RES KK', u'FLINT HILLS RESOURCES, LP', u'FOREST CONCEPTS LLC', u'GREEN PLAINS RENEWABLE ENERGY', u'HELIAE DEV LLC', u'INDIAN INST CHEM TECHNOL', u'INDIAN INST TECHNOL', u'INDIAN INST TECHNOL;INDIAN INST TECHNOL', u'IOWA STATE UNIV', u'IOWA STATE UNIV;IOWA STATE UNIV', u'IOWA STATE UNIV;IOWA STATE UNIV;IOWA STATE UNIV', u'JIANGNAN UNIV', u'KOREA ADV INST SCI & TECHNOL', u'KOREA INST ENERGY RES', u'KOREA INST SCI & TECHNOLOGY', u'LOUISIANA STATE UNIV', u'LUND UNIV', u'MAX-PLANCK-GESELLSCHAFT ZUR FORDERUNG DER WISSENSCHAFTEN EV', u'MICHIGAN STATE UNIV', u'MICHIGAN STATE UNIV;MICHIGAN STATE UNIV', u'MONSANTO TECHNOLOGY LLC', u'MONSANTO TECHNOLOGY LLC;MONSANTO TECHNOLOGY LLC', u'N CAROLINA STATE UNIV', u'NANDAN BIOMATRIX LTD', u'NANYANG TECHNOL UNIV', u'NATL CHENG KUNG UNIV;NATL CHENG KUNG UNIV;NATL CHENG KUNG UNIV', u'NATL RENEWABLE ENERGY LAB', u'NATL UNIV SINGAPORE', 'NOVOZYMES AS', u'ODEBRECHT AGROINDUSTRIAL S.A.', u'OHIO STATE UNIV', u'QINGDAO JINXIU SHUIYUAN TRADING CO LTD', u'RAA\\xadZEN ENERGIA S.A.', 'RISO DTU', u'ROCKWELL AUTOMATION TECHNOLOGIES INC', u'RURAL DEV ADMINISTRATION', u'S CHINA UNIV TECHNOL', u'SHANGHAI JIAO TONG UNIV', u'SHELL INT RES MIJ BV;SHELL OIL CO', u'SONY CORP;SONY CORP', u'SOUTHEAST UNIV', u'SWEDISH UNIV AGR SCI', u'TECH UNIV DENMARK', u'TEXAS A&M UNIV', u'TIANJIN UNIV', u'TOYOTA JIDOSHA KK', u'TSINGHUA UNIV', u'UNICAMP UNIV ESTADUAL CAMPINAS', u'UNIV ALBERTA', u'UNIV ALMERIA', u'UNIV BRITISH COLUMBIA', u'UNIV CALIF BERKELEY', u'UNIV CALIF DAVIS', u'UNIV CALIFORNIA', u'UNIV CALIFORNIA;UNIV CALIFORNIA', 'UNIV COPENHAGEN', u'UNIV FEDERAL DO PARANA', u'UNIV GEORGIA', u'UNIV GEORGIA RES FOUND INC', u'UNIV KOREA RES & BUSINESS FOUND', u'UNIV MINHO', u'UNIV MINNESOTA', u'UNIV MONTREAL', u'UNIV OVIEDO', u'UNIV PATRAS', u'UNIV SAINS MALAYSIA', 'UNIV SO DENMARK', u'UNIV STELLENBOSCH', u'UNIV TEXAS SYSTEM', u'UNIV UTRECHT', u'UNIV WASHINGTON', u'UNIV WESTERN ONTARIO', u'UOP LLC', u'UOP LLC;UOP LLC', u'USDA ARS', u'USINA DE AA\\xa7A\\xbaCAR SANTA TEREZINHA LTDA', u'UT-BATTELLE LLC', u'VALERO RENEWABLE FUELS', u'VALERO RENEWABLE FUELS COMPANY, LLC', u'WASHINGTON STATE UNIV', u'WISCONSIN ALUMNI RES FOUND', u'XINAO SCI & TECHNOLOGY DEV CO LTD', u'ZHEJIANG UNIV']\n"
     ]
    }
   ],
   "source": [
    "org_names = org_capability_dict.keys()\n",
    "\n",
    "org_names.sort()\n",
    "number_of_orgs = len(org_names)\n",
    "print 'There are {} organizations.'.format(number_of_orgs)\n",
    "print 'List of Organizations:'\n",
    "print org_names\n"
   ]
  },
  {
   "cell_type": "markdown",
   "metadata": {},
   "source": [
    "And we build the correlation matrix"
   ]
  },
  {
   "cell_type": "code",
   "execution_count": null,
   "metadata": {},
   "outputs": [],
   "source": [
    "idxs = [org_names.index(e) for e in dk_organizations]\n",
    "my_label_colors = {}\n",
    "for name in org_names:\n",
    "        if name in dk_organizations:\n",
    "            my_label_colors[name] = 'r'\n",
    "        else:\n",
    "            my_label_colors[name] = 'black'"
   ]
  },
  {
   "cell_type": "code",
   "execution_count": null,
   "metadata": {},
   "outputs": [],
   "source": [
    "org_correlation = np.zeros([number_of_orgs, number_of_orgs])\n",
    "for row in range(number_of_orgs):\n",
    "    org_1 = org_names[row]\n",
    "    org_1_list = np.asarray(org_capability_dict[org_1])\n",
    "    for column in range(number_of_orgs):\n",
    "        org_2 = org_names[column]\n",
    "        org_2_list = np.asarray(org_capability_dict[org_2])\n",
    "\n",
    "        org_correlation[row, column] = calculate_org_correlation(org_1_list, org_2_list, 'Pearson')\n",
    "        "
   ]
  },
  {
   "cell_type": "code",
   "execution_count": null,
   "metadata": {},
   "outputs": [],
   "source": [
    "print len(sorted(org_capability_dict.keys()))"
   ]
  },
  {
   "cell_type": "code",
   "execution_count": null,
   "metadata": {},
   "outputs": [],
   "source": [
    "print 'Minimum correlation value is {} for organizations {} and {}.'.format(org_correlation[np.unravel_index(org_correlation.argmin(),\n",
    "                                             org_correlation.shape)[0],\n",
    "                            np.unravel_index(org_correlation.argmin(), \n",
    "                                             org_correlation.shape)[1]],\n",
    "        org_names[np.unravel_index(org_correlation.argmin(), \n",
    "                                       org_correlation.shape)[0]], \n",
    "        org_names[np.unravel_index(org_correlation.argmin(), \n",
    "                                       org_correlation.shape)[1]])"
   ]
  },
  {
   "cell_type": "code",
   "execution_count": null,
   "metadata": {},
   "outputs": [],
   "source": [
    "plt.subplots(1,1,figsize=(20, 20))\n",
    "plt.subplot(111)\n",
    "sns.heatmap(org_correlation, cbar=None, square=True, yticklabels=org_names, xticklabels=org_names)\n",
    "ax = plt.gca()\n",
    "xlbls = ax.get_xmajorticklabels()\n",
    "for lbl in xlbls:\n",
    "    lbl.set_color(my_label_colors[lbl.get_text()])\n",
    "ylbls = ax.get_ymajorticklabels()\n",
    "for lbl in ylbls:\n",
    "    lbl.set_color(my_label_colors[lbl.get_text()])\n",
    "plt.title('Organization Correlation Matrix: Unordered', size=13)\n",
    "plt.show()"
   ]
  },
  {
   "cell_type": "markdown",
   "metadata": {},
   "source": [
    "We apply hierarchical clustering: "
   ]
  },
  {
   "cell_type": "code",
   "execution_count": null,
   "metadata": {},
   "outputs": [],
   "source": [
    "# plot the clustermap\n",
    "g = sns.clustermap(org_correlation,  figsize=(20, 20), xticklabels = org_names, yticklabels=org_names)\n",
    "teste = list(g.dendrogram_col.reordered_ind)\n",
    "\n",
    "for tick_label in g.ax_heatmap.axes.get_yticklabels():\n",
    "    tick_label.set_color(my_label_colors[tick_label.get_text()])\n",
    "for tick_label in g.ax_heatmap.axes.get_xticklabels():\n",
    "    tick_label.set_color(my_label_colors[tick_label.get_text()])\n",
    "\n",
    "plt.show()"
   ]
  },
  {
   "cell_type": "markdown",
   "metadata": {},
   "source": [
    "### 2.2.Organization profiles <a class=\"anchor\" id=\"two-two\"></a>"
   ]
  },
  {
   "cell_type": "markdown",
   "metadata": {},
   "source": [
    "We select some organizations:"
   ]
  },
  {
   "cell_type": "code",
   "execution_count": null,
   "metadata": {},
   "outputs": [],
   "source": [
    "foc_org = ['TECH UNIV DENMARK', 'TSINGHUA UNIV', 'NOVOZYMES AS', 'UNIV CALIF BERKELEY']"
   ]
  },
  {
   "cell_type": "markdown",
   "metadata": {},
   "source": [
    "And plot their profiles: "
   ]
  },
  {
   "cell_type": "code",
   "execution_count": null,
   "metadata": {},
   "outputs": [],
   "source": [
    "# for each country selected\n",
    "for org in foc_org:\n",
    "    \n",
    "    # find the matrix slice\n",
    "    org_index = find_index(org, org_names)\n",
    "    histogram_data = org_correlation[:, org_index]\n",
    "    \n",
    "    # remove the country itself from data and labels\n",
    "    histogram_data = np.delete(histogram_data, org_index)\n",
    "    clean_org_names = np.delete(org_names, org_index)\n",
    "    \n",
    "\n",
    "    # sort labels and data\n",
    "    sorted_names = [name for _,name in sorted(zip(histogram_data, clean_org_names))]\n",
    "    histogram_data.sort()\n",
    "    \n",
    "    #plot\n",
    "    plt.subplots(1,1,figsize=(20,7))\n",
    "    sns.barplot(np.arange(len(histogram_data)), histogram_data * 100)\n",
    "    plt.xticks(np.arange(len(histogram_data)), sorted_names, rotation=90, fontsize=11)\n",
    "    plt.title('Organization Profile: {}'.format(org))\n",
    "    plt.ylabel('Correlation Percentage')\n",
    "    \n",
    "    ax = plt.gca()\n",
    "    xlbls = ax.get_xmajorticklabels()\n",
    "    for lbl in xlbls:\n",
    "        lbl.set_color(my_label_colors[lbl.get_text()])\n",
    "    \n",
    "    \n",
    "    plt.show()"
   ]
  },
  {
   "cell_type": "markdown",
   "metadata": {},
   "source": [
    "## 3.Comparing organizations <a class=\"anchor\" id=\"three\"></a>"
   ]
  },
  {
   "cell_type": "markdown",
   "metadata": {},
   "source": [
    "### 3.1.Visual Representation <a class=\"anchor\" id=\"three-one\"></a>"
   ]
  },
  {
   "cell_type": "markdown",
   "metadata": {},
   "source": [
    "We select two organizations to compare: DTU and Tsinghua"
   ]
  },
  {
   "cell_type": "code",
   "execution_count": null,
   "metadata": {},
   "outputs": [],
   "source": [
    "# call functions\n",
    "dtu = 'TECH UNIV DENMARK'\n",
    "compare_with = 'TSINGHUA UNIV'\n",
    "colors = 'magma'\n",
    "dtu_matrix = get_org_matrix(dtu, normalization=False)\n",
    "scnd_matrix = get_org_matrix(compare_with, normalization=False)\n",
    "\n",
    "# create a subplot\n",
    "plt.subplots(2,1,figsize=(17,17))\n",
    "\n",
    "# first heatmap\n",
    "plt.subplot(121)\n",
    "sns.heatmap(dtu_matrix, cmap=colors,  cbar=None, square=True, xticklabels=False, yticklabels=False)\n",
    "plt.title('Capability Matrix: {}'.format(dtu))\n",
    "\n",
    "# second heatmap\n",
    "plt.subplot(122)\n",
    "sns.heatmap(scnd_matrix, cmap=colors, cbar=None, square=True, xticklabels=False, yticklabels=False)\n",
    "plt.title('Capability Matrix: {}'.format(compare_with))\n",
    "plt.show()"
   ]
  },
  {
   "cell_type": "markdown",
   "metadata": {},
   "source": [
    "We print a matrix of differences: "
   ]
  },
  {
   "cell_type": "code",
   "execution_count": null,
   "metadata": {},
   "outputs": [],
   "source": [
    "cap_diff = np.absolute(dtu_matrix - scnd_matrix)"
   ]
  },
  {
   "cell_type": "code",
   "execution_count": null,
   "metadata": {},
   "outputs": [],
   "source": [
    "plt.subplots(1,1,figsize=(13, 13))\n",
    "plt.subplot(111)\n",
    "sns.heatmap(cap_diff, square=True, yticklabels=False, xticklabels=False)\n",
    "plt.title('Differences between DTU and {} as absolute values'.format(compare_with), size=13)\n",
    "plt.show()"
   ]
  },
  {
   "cell_type": "markdown",
   "metadata": {},
   "source": [
    "### 3.2.Most frequent term pairs <a class=\"anchor\" id=\"three-two\"></a>"
   ]
  },
  {
   "cell_type": "markdown",
   "metadata": {},
   "source": [
    "We create a function that given an organization, returns its top hits. "
   ]
  },
  {
   "cell_type": "code",
   "execution_count": null,
   "metadata": {},
   "outputs": [],
   "source": [
    "def get_top_hits(orgMatrix, name):\n",
    "    \"\"\"\n",
    "    The function prints the top occurences if fed a matrix of occurences, it also prints other types of valuable info.\n",
    "    WARNING: Percentages are shown as 0 to 1. \n",
    "    \"\"\"\n",
    "        \n",
    "    # list where all the values and indexes of matrix are stored\n",
    "    top = 10\n",
    "    values = []\n",
    "    indexes = []\n",
    "    no_duplicates = np.triu(orgMatrix, 1)\n",
    "    total_documents = np.sum(no_duplicates)\n",
    "    \n",
    "    \n",
    "    # loop through the matrix\n",
    "    for row_n in range(dtu_matrix.shape[0]):\n",
    "        for col_n in range(dtu_matrix.shape[1]):\n",
    "            values.append(no_duplicates[row_n, col_n])\n",
    "            indexes.append((row_n, col_n))\n",
    "    \n",
    "    \n",
    "    # order the indexes and get the top\n",
    "    Z = [indexes for _,indexes in sorted(zip(values,indexes))]\n",
    "    extremes = Z[-top :]\n",
    "    \n",
    "    \n",
    "    # create dataframe\n",
    "    term_Dataframe = pd.DataFrame(\n",
    "        {'First Term': [matrix_axis_names[e[0]] for e in extremes],\n",
    "         'Second Term': [matrix_axis_names[e[1]] for e in extremes],\n",
    "         'Number of Documents': [int(no_duplicates[e[0], e[1]]) for e in extremes], \n",
    "         'Percentage' : [no_duplicates[e[0], e[1]] / float(total_documents) for e in extremes], \n",
    "        })\n",
    "    \n",
    "    # prepare dataframe\n",
    "    term_Dataframe = term_Dataframe[['First Term', 'Second Term','Number of Documents', 'Percentage']]\n",
    "    term_Dataframe = term_Dataframe.sort_values('Number of Documents', ascending=False)\n",
    "    \n",
    "    \n",
    "    # print everything\n",
    "    print 'The top hits for the {} matrix: '.format(name)\n",
    "    display(HTML(term_Dataframe.to_html(index=False)))\n",
    "    \n",
    "    \n",
    "    print 'The total number of documents is {}.'.format(int(total_documents))\n",
    "    print 'Note: Percentages are as 0-1 in this table. '"
   ]
  },
  {
   "cell_type": "markdown",
   "metadata": {},
   "source": [
    "We apply it to DTU: "
   ]
  },
  {
   "cell_type": "code",
   "execution_count": null,
   "metadata": {},
   "outputs": [],
   "source": [
    "get_top_hits(dtu_matrix, dtu)"
   ]
  },
  {
   "cell_type": "markdown",
   "metadata": {},
   "source": [
    "We apply it to Tsinghua University: "
   ]
  },
  {
   "cell_type": "code",
   "execution_count": null,
   "metadata": {},
   "outputs": [],
   "source": [
    "get_top_hits(scnd_matrix, compare_with)"
   ]
  },
  {
   "cell_type": "markdown",
   "metadata": {},
   "source": [
    "### 3.3.Top differences <a class=\"anchor\" id=\"three-three\"></a>"
   ]
  },
  {
   "cell_type": "markdown",
   "metadata": {},
   "source": [
    "Let us look at the top differences between these matrixes:"
   ]
  },
  {
   "cell_type": "code",
   "execution_count": null,
   "metadata": {},
   "outputs": [],
   "source": [
    "# list where all the values and indexes of matrix are stored\n",
    "dtu_perc = dtu_matrix / np.sum(np.triu(dtu_matrix, 1)) * 100 # half only  \n",
    "other_perc = scnd_matrix / np.sum(np.triu(scnd_matrix, 1)) * 100\n",
    "differences = dtu_perc - other_perc\n",
    "differences = np.absolute(differences)\n",
    "\n",
    "values = []\n",
    "indexes = []\n",
    "no_duplicates = np.triu(differences, 1)\n",
    "\n",
    "top = 20\n",
    "\n",
    "# loop through the matrix\n",
    "for row_n in range(differences.shape[0]):\n",
    "    for col_n in range(differences.shape[1]):\n",
    "        values.append(no_duplicates[row_n, col_n])\n",
    "        indexes.append((row_n, col_n))\n",
    "\n",
    "# print the table \n",
    "Z = [indexes for _,indexes in sorted(zip(values,indexes))]\n",
    "extremes = list(reversed(Z[-top:]))\n",
    "\n",
    "\n",
    "term_Dataframe = pd.DataFrame(\n",
    "    {'First Term': [matrix_axis_names[e[0]] for e in extremes],\n",
    "     'Second Term': [matrix_axis_names[e[1]] for e in extremes],\n",
    "     'DTU Percentage': [dtu_perc[e[0], e[1]] for e in extremes], \n",
    "     '{} Percentage'.format(compare_with): [other_perc[e[0], e[1]] for e in extremes], \n",
    "     'Difference in %': [no_duplicates[e[0], e[1]] for e in extremes]\n",
    "    })\n",
    "\n",
    "term_Dataframe = term_Dataframe[['First Term', 'Second Term', 'DTU Percentage', '{} Percentage'.format(compare_with), 'Difference in %']]\n",
    "\n",
    "\n",
    "display(HTML(term_Dataframe.to_html(index=False)))\n",
    "print 'Percentages are as 0-100 in this table for easy viz.'"
   ]
  },
  {
   "cell_type": "markdown",
   "metadata": {},
   "source": [
    "## 4.Collaborations <a class=\"anchor\" id=\"four\"></a>\n",
    "### 4.1.All organizations <a class=\"anchor\" id=\"four-one\"></a>"
   ]
  },
  {
   "cell_type": "markdown",
   "metadata": {},
   "source": [
    "A helper function to categorize collaborations: "
   ]
  },
  {
   "cell_type": "code",
   "execution_count": null,
   "metadata": {},
   "outputs": [],
   "source": [
    "def collaboration_inspector(org_):\n",
    "    \n",
    "    \"\"\"\n",
    "    This function returns the total amount of university and non university collaborations. \n",
    "    This is done by detection of the UNIV term.\n",
    "    RETURNS: dictionnary of data\n",
    "    \"\"\"\n",
    "    \n",
    "    # query\n",
    "    collab_query = \"\"\"\n",
    "                    MATCH (a:Asset)\n",
    "                    WHERE a.owner CONTAINS \"{}\"\n",
    "                    RETURN a.owner, count(a)\n",
    "                    ORDER BY count(a) desc\"\"\".format(org_)\n",
    "    \n",
    "    # convert to dataframe and extract total docs \n",
    "    DATA = DataFrame(connection_to_graph.data(collab_query))\n",
    "    total_docs = DATA['count(a)'].sum()\n",
    "    \n",
    "    # replace own name to avoid detection\n",
    "    DATA = DATA.replace({'{}'.format(org_): 'None'}, regex=True)\n",
    "    \n",
    "    # loop through rows in search of term and count\n",
    "    university_partnerships_counter = 0\n",
    "    other_partnerships_counter = 0\n",
    "    for index, row in DATA.iterrows():\n",
    "        collaborators = row['a.owner']\n",
    "        documents = row['count(a)']\n",
    "        if 'UNIV' in collaborators:\n",
    "            university_partnerships_counter = university_partnerships_counter + documents\n",
    "        else:\n",
    "            other_partnerships_counter = other_partnerships_counter + documents\n",
    "    \n",
    "    # build data structure and return\n",
    "    data = {\n",
    "        'total_documents': int(total_docs), \n",
    "        'univ_partnerships': university_partnerships_counter,\n",
    "        'univ_partnerships_perc': university_partnerships_counter /float(total_docs) * 100.0,\n",
    "        'other_partnerships': other_partnerships_counter,\n",
    "        'other_partnerships_perc': other_partnerships_counter /float(total_docs) * 100.0\n",
    "        }\n",
    "    \n",
    "    return data"
   ]
  },
  {
   "cell_type": "markdown",
   "metadata": {},
   "source": [
    "We use the function in all organizations: "
   ]
  },
  {
   "cell_type": "code",
   "execution_count": null,
   "metadata": {},
   "outputs": [],
   "source": [
    "names = []\n",
    "univ_perc = []\n",
    "other_perc = []\n",
    "\n",
    "for org in org_names:\n",
    "    names.append(org)\n",
    "    dict_ = collaboration_inspector(org.encode('utf-8'))\n",
    "    univ_perc.append(dict_['univ_partnerships_perc'])\n",
    "    other_perc.append(dict_['other_partnerships_perc'])"
   ]
  },
  {
   "cell_type": "markdown",
   "metadata": {},
   "source": [
    "And we plot the results: "
   ]
  },
  {
   "cell_type": "code",
   "execution_count": null,
   "metadata": {},
   "outputs": [],
   "source": [
    "ordered_names = [x for _,x in sorted(zip(other_perc,names))]\n",
    "univ_per_ordered = [univ_perc[names.index(word)] for word in ordered_names]\n",
    "other_per_ordered = [other_perc[names.index(word)] for word in ordered_names]\n",
    "\n",
    "\n",
    "plt.subplots(1,1,figsize=(20,7))\n",
    "plt.bar(range(len(univ_per_ordered)), univ_per_ordered, color='#ff7950', label='University partnerships')\n",
    "plt.bar(range(len(univ_per_ordered)), other_per_ordered, bottom=univ_per_ordered, color='#74b5ea', label='Other partnerships')\n",
    "plt.xticks(range(len(univ_per_ordered)), ordered_names, rotation='vertical')\n",
    "ax = plt.gca()\n",
    "xlbls = ax.get_xmajorticklabels()\n",
    "for lbl in xlbls:\n",
    "    lbl.set_color(my_label_colors[lbl.get_text()])\n",
    "plt.title('Collaboration type segmentation for all Organisations')\n",
    "plt.ylabel('Percentage of assets')\n",
    "plt.legend()\n",
    "plt.show()"
   ]
  },
  {
   "cell_type": "markdown",
   "metadata": {},
   "source": [
    "ARS is the [Agricultural Research Service](https://www.ars.usda.gov/)"
   ]
  },
  {
   "cell_type": "markdown",
   "metadata": {},
   "source": [
    "### 4.2.Universities <a class=\"anchor\" id=\"four-two\"></a>"
   ]
  },
  {
   "cell_type": "markdown",
   "metadata": {},
   "source": [
    "We limit the graph to universities: "
   ]
  },
  {
   "cell_type": "code",
   "execution_count": null,
   "metadata": {},
   "outputs": [],
   "source": [
    "names = []\n",
    "univ_perc = []\n",
    "other_perc = []\n",
    "\n",
    "for org in org_names:\n",
    "    if 'UNIV' in org:\n",
    "        names.append(org)\n",
    "        dict_ = collaboration_inspector(org.encode('utf-8'))\n",
    "        univ_perc.append(dict_['univ_partnerships_perc'])\n",
    "        other_perc.append(dict_['other_partnerships_perc'])\n",
    "    \n",
    "ordered_names = [x for _,x in sorted(zip(other_perc,names))]\n",
    "univ_per_ordered = [univ_perc[names.index(word)] for word in ordered_names]\n",
    "other_per_ordered = [other_perc[names.index(word)] for word in ordered_names]\n",
    "\n",
    "\n",
    "plt.subplots(1,1,figsize=(20,7))\n",
    "plt.bar(range(len(univ_per_ordered)), univ_per_ordered, color='#ff7950', label='University partnerships')\n",
    "plt.bar(range(len(univ_per_ordered)), other_per_ordered, bottom=univ_per_ordered, color='#74b5ea', label='Other partnerships')\n",
    "plt.xticks(range(len(univ_per_ordered)), ordered_names, rotation='vertical')\n",
    "ax = plt.gca()\n",
    "xlbls = ax.get_xmajorticklabels()\n",
    "for lbl in xlbls:\n",
    "    lbl.set_color(my_label_colors[lbl.get_text()])\n",
    "plt.title('Collaboration type segmentation for Universities')\n",
    "plt.ylabel('Percentage of assets')\n",
    "plt.legend()\n",
    "plt.show()"
   ]
  },
  {
   "cell_type": "markdown",
   "metadata": {},
   "source": [
    "### 4.3.Non-Universities <a class=\"anchor\" id=\"four-three\"></a>\n",
    "\n",
    "We limit the graph to non-universities: "
   ]
  },
  {
   "cell_type": "code",
   "execution_count": null,
   "metadata": {},
   "outputs": [],
   "source": [
    "names = []\n",
    "univ_perc = []\n",
    "other_perc = []\n",
    "\n",
    "for org in org_names:\n",
    "    if 'UNIV' not in org:\n",
    "        names.append(org)\n",
    "        dict_ = collaboration_inspector(org.encode('utf-8'))\n",
    "        univ_perc.append(dict_['univ_partnerships_perc'])\n",
    "        other_perc.append(dict_['other_partnerships_perc'])\n",
    "    \n",
    "ordered_names = [x for _,x in sorted(zip(other_perc,names))]\n",
    "univ_per_ordered = [univ_perc[names.index(word)] for word in ordered_names]\n",
    "other_per_ordered = [other_perc[names.index(word)] for word in ordered_names]\n",
    "\n",
    "\n",
    "plt.subplots(1,1,figsize=(20,7))\n",
    "plt.bar(range(len(univ_per_ordered)), univ_per_ordered, color='#ff7950', label='University partnerships')\n",
    "plt.bar(range(len(univ_per_ordered)), other_per_ordered, bottom=univ_per_ordered, color='#74b5ea', label='Other partnerships')\n",
    "plt.xticks(range(len(univ_per_ordered)), ordered_names, rotation='vertical')\n",
    "ax = plt.gca()\n",
    "xlbls = ax.get_xmajorticklabels()\n",
    "for lbl in xlbls:\n",
    "    lbl.set_color(my_label_colors[lbl.get_text()])\n",
    "plt.title('Collaboration type segmentation for Non-Universities')\n",
    "plt.ylabel('Percentage of assets')\n",
    "plt.legend()\n",
    "plt.show()"
   ]
  },
  {
   "cell_type": "markdown",
   "metadata": {},
   "source": [
    "## 5.Organizational spectrums <a class=\"anchor\" id=\"five\"></a>"
   ]
  },
  {
   "cell_type": "markdown",
   "metadata": {},
   "source": [
    "### 5.1.Zoom in version <a class=\"anchor\" id=\"five-one\"></a>\n",
    "\n",
    "Let us limit organizations and term pairs to proove the concept. "
   ]
  },
  {
   "cell_type": "code",
   "execution_count": null,
   "metadata": {},
   "outputs": [],
   "source": [
    "def get_org_values(org_):\n",
    "    \"\"\"\n",
    "    Returns the organization DNA, if 'root' then it returns all of the names of the term pairs. \n",
    "    \"\"\"\n",
    "\n",
    "    matrix = get_org_matrix(org_, normalization=False)\n",
    "    matrix_tri = np.triu(matrix, 1)\n",
    "    \n",
    "    values = []\n",
    "    indexes = []\n",
    "    \n",
    "    \n",
    "    # loop through the matrix\n",
    "    for row_n in range(matrix_tri.shape[0]):\n",
    "        for col_n in range(matrix_tri.shape[1]):\n",
    "            values.append(matrix_tri[row_n, col_n])\n",
    "            indexes.append((row_n, col_n))\n",
    "            \n",
    "    if org_ == 'root':\n",
    "        term_tuples = ['{}/{}'.format(matrix_axis_names[a[0]], matrix_axis_names[a[1]]) for a in indexes]\n",
    "        return term_tuples\n",
    "    else: \n",
    "        return values"
   ]
  },
  {
   "cell_type": "code",
   "execution_count": null,
   "metadata": {},
   "outputs": [],
   "source": [
    "# define countries\n",
    "scope_organizations = ['TECH UNIV DENMARK', 'NOVOZYMES AS', 'UNIV CALIF BERKELEY', 'TSINGHUA UNIV']\n",
    "\n",
    "# create heatmap and names of capability terms array\n",
    "scope_matrix = np.zeros((len(scope_organizations), len(get_org_values('TECH UNIV DENMARK'))))\n",
    "capability_pair_names = np.asarray(get_org_values('root'))\n",
    "\n",
    "# build the matrix\n",
    "for i in range(len(scope_organizations)):\n",
    "    scope_matrix[i, :] = get_org_values(scope_organizations[i])\n",
    "\n",
    "# detect if a certain term pair is not used at all by computing the column sum\n",
    "column_sum = np.sum(scope_matrix, axis=0)\n",
    "zero_counter = 0\n",
    "zero_indexes_array = []\n",
    "for i in range(len(column_sum)):\n",
    "    if column_sum[i] == 0.0:\n",
    "        zero_counter += 1\n",
    "        zero_indexes_array.append(i)\n",
    "\n",
    "# delete the empty term pairs\n",
    "print 'The original shape was of {} organizations and {} term pairs.'.format(scope_matrix.shape[0], scope_matrix.shape[1])\n",
    "print '{}% of the term pairs were empty.'.format(zero_counter * 100 / len(column_sum))\n",
    "scope_matrix = np.delete(scope_matrix, zero_indexes_array, 1) \n",
    "capability_pair_names = np.delete(capability_pair_names, zero_indexes_array)\n",
    "print 'The final shape is of {} organizations and {} term pairs.'.format(scope_matrix.shape[0], scope_matrix.shape[1])\n",
    "\n",
    "\n",
    "# limit the visualization\n",
    "limit = 45\n",
    "print 'Here, reduced to {} for visualization purposes.'.format(limit)\n",
    "\n",
    "plt.subplots(1,1,figsize=(20, 5))\n",
    "plt.subplot(111)\n",
    "sns.heatmap(scope_matrix[:, 0:limit],cmap=ListedColormap(['white', 'black']), center=0.01, cbar=None, square=False, yticklabels=scope_organizations, xticklabels=capability_pair_names[0:limit])\n",
    "plt.title('Organization Capability Spectral Representation: Zoom')\n",
    "plt.show()"
   ]
  },
  {
   "cell_type": "markdown",
   "metadata": {},
   "source": [
    "### 5.2.Limited Organizations <a class=\"anchor\" id=\"five-two\"></a>\n",
    "\n",
    "We extend it but limit the organizations: "
   ]
  },
  {
   "cell_type": "code",
   "execution_count": null,
   "metadata": {},
   "outputs": [],
   "source": [
    "plt.subplots(1,1,figsize=(25, 10))\n",
    "plt.subplot(111)\n",
    "sns.heatmap(scope_matrix,cmap=ListedColormap(['white', 'black']), center=0.01, cbar=None, square=False, yticklabels=scope_organizations, xticklabels=False)\n",
    "plt.title('Organization Capability Spectral Representation: Limited Organizations')\n",
    "plt.show()"
   ]
  },
  {
   "cell_type": "markdown",
   "metadata": {},
   "source": [
    "### 5.3.Full representation <a class=\"anchor\" id=\"five-three\"></a>\n",
    "\n",
    "We plot all the organizations and term pairs"
   ]
  },
  {
   "cell_type": "code",
   "execution_count": null,
   "metadata": {},
   "outputs": [],
   "source": [
    "# prepare heatmap\n",
    "\n",
    "org_names = [org_names[i] for i in list(np.load('Data/cluster_org_order.npy'))]\n",
    "\n",
    "jumbo_matrix = np.zeros((len(org_names), len(get_org_values('Denmark'))))\n",
    "\n",
    "# build heatmap                 \n",
    "for i in range(len(org_names)):\n",
    "    jumbo_matrix[i, :] = get_org_values(org_names[i].encode('utf-8'))\n",
    "                        \n",
    "# delete 0 entries\n",
    "column_sum = np.sum(jumbo_matrix, axis=0)\n",
    "zero_counter = 0\n",
    "zero_indexes_array = []\n",
    "for i in range(len(column_sum)):\n",
    "    if column_sum[i] == 0.0:\n",
    "        zero_counter += 1\n",
    "        zero_indexes_array.append(i)\n",
    "\n",
    "# adjust size to empy cells and output info\n",
    "print 'The original shape was of {} organizations and {} term pairs.'.format(jumbo_matrix.shape[0], jumbo_matrix.shape[1])\n",
    "print '{}% was empty.'.format(zero_counter * 100 / len(column_sum))\n",
    "jumbo_matrix = np.delete(jumbo_matrix, zero_indexes_array, 1) \n",
    "print 'The original shape was of {} organizations and {} term pairs.'.format(jumbo_matrix.shape[0], jumbo_matrix.shape[1])\n",
    "\n",
    "plt.subplots(1,1,figsize=(20, 15))\n",
    "plt.subplot(111)\n",
    "sns.heatmap(jumbo_matrix,cmap=ListedColormap(['white', 'black']), center=0.01, cbar=None, square=False, yticklabels=org_names, xticklabels=False)\n",
    "plt.yticks(rotation=0, size=7)\n",
    "ax = plt.gca()\n",
    "xlbls = ax.get_ymajorticklabels()\n",
    "for lbl in xlbls:\n",
    "    lbl.set_color(my_label_colors[lbl.get_text()])\n",
    "plt.title('Organization Capability Spectral Representation')\n",
    "plt.show()"
   ]
  },
  {
   "cell_type": "markdown",
   "metadata": {},
   "source": [
    "### 5.4.DTU neighbours <a class=\"anchor\" id=\"five-four\"></a>\n",
    "\n",
    "Only the organizations that are more related to DTU. "
   ]
  },
  {
   "cell_type": "code",
   "execution_count": null,
   "metadata": {},
   "outputs": [],
   "source": [
    "plt.subplots(1,1,figsize=(25, 10))\n",
    "plt.subplot(111)\n",
    "sns.heatmap(jumbo_matrix[6:12, :],cmap=ListedColormap(['white', 'black']), center=0.01, cbar=None, square=False, yticklabels=org_names[6:12], xticklabels=False)\n",
    "plt.yticks(rotation=0, size=7)\n",
    "ax = plt.gca()\n",
    "xlbls = ax.get_ymajorticklabels()\n",
    "for lbl in xlbls:\n",
    "    lbl.set_color(my_label_colors[lbl.get_text()])\n",
    "plt.title('Organization Capability Spectral Representation')\n",
    "plt.show()"
   ]
  }
 ],
 "metadata": {
  "kernelspec": {
   "display_name": "Python 2",
   "language": "python",
   "name": "python2"
  },
  "language_info": {
   "codemirror_mode": {
    "name": "ipython",
    "version": 2
   },
   "file_extension": ".py",
   "mimetype": "text/x-python",
   "name": "python",
   "nbconvert_exporter": "python",
   "pygments_lexer": "ipython2",
   "version": "2.7.13"
  }
 },
 "nbformat": 4,
 "nbformat_minor": 2
}
